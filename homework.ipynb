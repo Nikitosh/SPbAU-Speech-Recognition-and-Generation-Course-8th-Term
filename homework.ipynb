{
 "cells": [
  {
   "cell_type": "code",
   "execution_count": 1,
   "metadata": {},
   "outputs": [],
   "source": [
    "import glob\n",
    "from sklearn.model_selection import train_test_split"
   ]
  },
  {
   "cell_type": "code",
   "execution_count": 2,
   "metadata": {},
   "outputs": [],
   "source": [
    "wav_files = glob.glob('VCTK-Corpus\\\\**\\\\*.wav', recursive=True)\n",
    "txt_files = [file.replace('wav48', 'txt').replace('.wav', '.txt') for file in wav_files]\n",
    "train_data, test_data = train_test_split(list(zip(wav_files, txt_files)))\n",
    "\n",
    "with open('data/train.csv', 'w') as f_train:\n",
    "    for wav_file, txt_file in train_data:\n",
    "        f_train.write(wav_file + ',' + txt_file + '\\n')\n",
    "with open('data/test.csv', 'w') as f_test:\n",
    "    for wav_file, txt_file in test_data:\n",
    "        f_test.write(wav_file + ',' + txt_file + '\\n')"
   ]
  },
  {
   "cell_type": "code",
   "execution_count": 3,
   "metadata": {},
   "outputs": [
    {
     "name": "stdout",
     "output_type": "stream",
     "text": [
      "Model Save directory already exists.\n",
      "DeepSpeech(\n",
      "  (conv): Sequential(\n",
      "    (0): Conv2d(1, 32, kernel_size=(41, 11), stride=(2, 2), padding=(0, 10))\n",
      "    (1): BatchNorm2d(32, eps=1e-05, momentum=0.1, affine=True)\n",
      "    (2): Hardtanh(min_val=0, max_val=20, inplace)\n",
      "    (3): Conv2d(32, 32, kernel_size=(21, 11), stride=(2, 1))\n",
      "    (4): BatchNorm2d(32, eps=1e-05, momentum=0.1, affine=True)\n",
      "    (5): Hardtanh(min_val=0, max_val=20, inplace)\n",
      "  )\n",
      "  (rnns): Sequential(\n",
      "    (0): BatchRNN(\n",
      "      (rnn): GRU(672, 800, bias=False, bidirectional=True)\n",
      "    )\n",
      "    (1): BatchRNN(\n",
      "      (batch_norm): SequenceWise (\n",
      "      BatchNorm1d(800, eps=1e-05, momentum=0.1, affine=True))\n",
      "      (rnn): GRU(800, 800, bias=False, bidirectional=True)\n",
      "    )\n",
      "    (2): BatchRNN(\n",
      "      (batch_norm): SequenceWise (\n",
      "      BatchNorm1d(800, eps=1e-05, momentum=0.1, affine=True))\n",
      "      (rnn): GRU(800, 800, bias=False, bidirectional=True)\n",
      "    )\n",
      "    (3): BatchRNN(\n",
      "      (batch_norm): SequenceWise (\n",
      "      BatchNorm1d(800, eps=1e-05, momentum=0.1, affine=True))\n",
      "      (rnn): GRU(800, 800, bias=False, bidirectional=True)\n",
      "    )\n",
      "    (4): BatchRNN(\n",
      "      (batch_norm): SequenceWise (\n",
      "      BatchNorm1d(800, eps=1e-05, momentum=0.1, affine=True))\n",
      "      (rnn): GRU(800, 800, bias=False, bidirectional=True)\n",
      "    )\n",
      "  )\n",
      "  (fc): Sequential(\n",
      "    (0): SequenceWise (\n",
      "    Sequential(\n",
      "      (0): BatchNorm1d(800, eps=1e-05, momentum=0.1, affine=True)\n",
      "      (1): Linear(in_features=800, out_features=29, bias=False)\n",
      "    ))\n",
      "  )\n",
      "  (inference_softmax): InferenceBatchSoftmax(\n",
      "  )\n",
      ")\n",
      "Number of parameters: 38067968\n",
      "Epoch: [1][1/95]\tTime 82.123 (82.123)\tData 12.221 (12.221)\tLoss 421.0085 (421.0085)\t\n",
      "Epoch: [1][2/95]\tTime 51.366 (66.745)\tData 1.288 (6.755)\tLoss 348.2397 (384.6241)\t\n",
      "Epoch: [1][3/95]\tTime 84.454 (72.648)\tData 0.032 (4.514)\tLoss 155.7830 (308.3437)\t\n",
      "Epoch: [1][4/95]\tTime 58.018 (68.990)\tData 0.204 (3.436)\tLoss 83.5130 (252.1361)\t\n",
      "Epoch: [1][5/95]\tTime 60.957 (67.384)\tData 0.026 (2.754)\tLoss 51.7726 (212.0634)\t\n",
      "Epoch: [1][6/95]\tTime 83.864 (70.130)\tData 0.012 (2.297)\tLoss 44.0477 (184.0607)\t\n",
      "Epoch: [1][7/95]\tTime 69.357 (70.020)\tData 0.000 (1.969)\tLoss 33.0525 (162.4881)\t\n",
      "Epoch: [1][8/95]\tTime 44.289 (66.804)\tData 0.000 (1.723)\tLoss 16.7672 (144.2730)\t\n",
      "Epoch: [1][9/95]\tTime 62.978 (66.378)\tData 0.009 (1.533)\tLoss 17.8261 (130.2234)\t\n",
      "Epoch: [1][10/95]\tTime 106.356 (70.376)\tData 0.016 (1.381)\tLoss 30.4899 (120.2500)\t\n",
      "Epoch: [1][11/95]\tTime 68.014 (70.161)\tData 0.813 (1.329)\tLoss 22.8964 (111.3997)\t\n",
      "Epoch: [1][12/95]\tTime 54.057 (68.819)\tData 0.016 (1.220)\tLoss 82.1760 (108.9644)\t\n",
      "Epoch: [1][13/95]\tTime 57.535 (67.951)\tData 0.000 (1.126)\tLoss 86.7165 (107.2530)\t\n",
      "Epoch: [1][14/95]\tTime 52.580 (66.853)\tData 0.016 (1.047)\tLoss 28.5109 (101.6286)\t\n",
      "Epoch: [1][15/95]\tTime 53.692 (65.976)\tData 0.016 (0.978)\tLoss 88.3667 (100.7444)\t\n",
      "Epoch: [1][16/95]\tTime 51.390 (65.064)\tData 0.016 (0.918)\tLoss 21.7467 (95.8071)\t\n",
      "Epoch: [1][17/95]\tTime 51.222 (64.250)\tData 0.000 (0.864)\tLoss 21.3860 (91.4294)\t\n",
      "Epoch: [1][18/95]\tTime 61.273 (64.085)\tData 0.000 (0.816)\tLoss 19.8905 (87.4550)\t\n",
      "Epoch: [1][19/95]\tTime 49.726 (63.329)\tData 0.016 (0.774)\tLoss 11.1487 (83.4389)\t\n",
      "Epoch: [1][20/95]\tTime 40.841 (62.205)\tData 0.000 (0.735)\tLoss 16.8786 (80.1109)\t\n",
      "Epoch: [1][21/95]\tTime 55.422 (61.882)\tData 0.000 (0.700)\tLoss 18.9481 (77.1983)\t\n",
      "Epoch: [1][22/95]\tTime 95.738 (63.421)\tData 0.010 (0.669)\tLoss 17.7807 (74.4975)\t\n",
      "Epoch: [1][23/95]\tTime 82.135 (64.234)\tData 0.266 (0.651)\tLoss 40.8263 (73.0336)\t\n",
      "Epoch: [1][24/95]\tTime 59.456 (64.035)\tData 0.047 (0.626)\tLoss 15.6764 (70.6437)\t\n",
      "Epoch: [1][25/95]\tTime 53.387 (63.609)\tData 0.000 (0.601)\tLoss 16.6034 (68.4821)\t\n",
      "Epoch: [1][26/95]\tTime 61.817 (63.540)\tData 0.000 (0.578)\tLoss 14.4307 (66.4032)\t\n",
      "Epoch: [1][27/95]\tTime 51.438 (63.092)\tData 0.000 (0.556)\tLoss 93.6537 (67.4125)\t\n",
      "Epoch: [1][28/95]\tTime 58.047 (62.912)\tData 0.016 (0.537)\tLoss 11.4434 (65.4136)\t\n",
      "Epoch: [1][29/95]\tTime 261.574 (69.762)\tData 0.000 (0.519)\tLoss 45.7702 (64.7362)\t\n",
      "Epoch: [1][30/95]\tTime 83.911 (70.234)\tData 1.125 (0.539)\tLoss 37.6014 (63.8317)\t\n",
      "Epoch: [1][31/95]\tTime 48.855 (69.544)\tData 0.000 (0.521)\tLoss 68.0874 (63.9690)\t\n",
      "Epoch: [1][32/95]\tTime 78.445 (69.822)\tData 0.016 (0.506)\tLoss 10.2200 (62.2893)\t\n",
      "Epoch: [1][33/95]\tTime 58.013 (69.465)\tData 0.000 (0.490)\tLoss 23.7700 (61.1221)\t\n",
      "Epoch: [1][34/95]\tTime 176.613 (72.616)\tData 0.000 (0.476)\tLoss 13.4067 (59.7187)\t\n",
      "Epoch: [1][35/95]\tTime 89.044 (73.085)\tData 0.234 (0.469)\tLoss 19.4792 (58.5690)\t\n",
      "Epoch: [1][36/95]\tTime 47.762 (72.382)\tData 0.000 (0.456)\tLoss 15.4641 (57.3716)\t\n",
      "Epoch: [1][37/95]\tTime 59.375 (72.030)\tData 0.016 (0.444)\tLoss 9.0037 (56.0644)\t\n",
      "Epoch: [1][38/95]\tTime 51.238 (71.483)\tData 0.000 (0.432)\tLoss 20.0061 (55.1155)\t\n",
      "Epoch: [1][39/95]\tTime 152.437 (73.559)\tData 0.016 (0.422)\tLoss 10.2977 (53.9663)\t\n",
      "Epoch: [1][40/95]\tTime 64.976 (73.344)\tData 0.271 (0.418)\tLoss 20.7093 (53.1349)\t\n",
      "Epoch: [1][41/95]\tTime 67.140 (73.193)\tData 0.016 (0.408)\tLoss 14.6460 (52.1961)\t\n",
      "Epoch: [1][42/95]\tTime 75.724 (73.253)\tData 0.000 (0.398)\tLoss 16.4320 (51.3446)\t\n",
      "Epoch: [1][43/95]\tTime 49.236 (72.695)\tData 0.000 (0.389)\tLoss 11.7395 (50.4236)\t\n",
      "Epoch: [1][44/95]\tTime 68.688 (72.604)\tData 0.000 (0.380)\tLoss 7.5191 (49.4485)\t\n",
      "Epoch: [1][45/95]\tTime 43.067 (71.947)\tData 0.016 (0.372)\tLoss 12.8971 (48.6362)\t\n",
      "Epoch: [1][46/95]\tTime 43.616 (71.331)\tData 0.016 (0.364)\tLoss 10.9816 (47.8176)\t\n",
      "Epoch: [1][47/95]\tTime 51.784 (70.916)\tData 0.000 (0.357)\tLoss 8.8436 (46.9884)\t\n",
      "Epoch: [1][48/95]\tTime 119.074 (71.919)\tData 0.016 (0.350)\tLoss 7.4347 (46.1644)\t\n",
      "Epoch: [1][49/95]\tTime 138.929 (73.286)\tData 0.234 (0.347)\tLoss 13.9468 (45.5069)\t\n",
      "Epoch: [1][50/95]\tTime 71.857 (73.258)\tData 0.277 (0.346)\tLoss 8.8137 (44.7730)\t\n",
      "Epoch: [1][51/95]\tTime 56.157 (72.923)\tData 0.016 (0.339)\tLoss 12.1367 (44.1331)\t\n",
      "Epoch: [1][52/95]\tTime 45.875 (72.402)\tData 0.000 (0.333)\tLoss 15.0505 (43.5738)\t\n",
      "Epoch: [1][53/95]\tTime 58.247 (72.135)\tData 0.000 (0.326)\tLoss 7.3078 (42.8895)\t\n",
      "Epoch: [1][54/95]\tTime 86.625 (72.404)\tData 0.000 (0.320)\tLoss 13.5898 (42.3469)\t\n",
      "Epoch: [1][55/95]\tTime 54.789 (72.083)\tData 0.000 (0.315)\tLoss 20.7645 (41.9545)\t\n",
      "Epoch: [1][56/95]\tTime 43.496 (71.573)\tData 0.000 (0.309)\tLoss 8.7341 (41.3613)\t\n",
      "Epoch: [1][57/95]\tTime 147.864 (72.911)\tData 0.000 (0.304)\tLoss 8.8899 (40.7916)\t\n",
      "Epoch: [1][58/95]\tTime 66.417 (72.799)\tData 0.063 (0.299)\tLoss 14.3443 (40.3356)\t\n",
      "Epoch: [1][59/95]\tTime 59.955 (72.582)\tData 0.000 (0.294)\tLoss 5.9408 (39.7527)\t\n",
      "Epoch: [1][60/95]\tTime 45.760 (72.135)\tData 0.000 (0.289)\tLoss 9.0366 (39.2407)\t\n",
      "Epoch: [1][61/95]\tTime 66.081 (72.035)\tData 0.016 (0.285)\tLoss 8.9718 (38.7445)\t\n",
      "Epoch: [1][62/95]\tTime 65.054 (71.923)\tData 0.016 (0.281)\tLoss 8.7116 (38.2601)\t\n",
      "Epoch: [1][63/95]\tTime 90.175 (72.212)\tData 0.000 (0.276)\tLoss 9.9905 (37.8114)\t\n",
      "Epoch: [1][64/95]\tTime 139.043 (73.257)\tData 0.000 (0.272)\tLoss 5.3465 (37.3041)\t\n",
      "Epoch: [1][65/95]\tTime 59.025 (73.038)\tData 0.250 (0.272)\tLoss 6.7383 (36.8339)\t\n",
      "Epoch: [1][66/95]\tTime 48.457 (72.665)\tData 0.016 (0.268)\tLoss 13.9365 (36.4870)\t\n",
      "Epoch: [1][67/95]\tTime 66.533 (72.574)\tData 0.016 (0.264)\tLoss 5.1169 (36.0188)\t\n",
      "Epoch: [1][68/95]\tTime 74.072 (72.596)\tData 0.016 (0.260)\tLoss 6.1046 (35.5788)\t\n",
      "Epoch: [1][69/95]\tTime 60.352 (72.418)\tData 0.000 (0.256)\tLoss 19.2419 (35.3421)\t\n",
      "Epoch: [1][70/95]\tTime 69.474 (72.376)\tData 0.000 (0.253)\tLoss 9.3887 (34.9713)\t\n",
      "Epoch: [1][71/95]\tTime 57.240 (72.163)\tData 0.016 (0.249)\tLoss 7.4174 (34.5832)\t\n",
      "Epoch: [1][72/95]\tTime 47.309 (71.818)\tData 0.031 (0.246)\tLoss 9.4735 (34.2345)\t\n",
      "Epoch: [1][73/95]\tTime 76.562 (71.883)\tData 0.016 (0.243)\tLoss 6.8978 (33.8600)\t\n",
      "Epoch: [1][74/95]\tTime 57.356 (71.687)\tData 0.016 (0.240)\tLoss 6.2522 (33.4869)\t\n",
      "Epoch: [1][75/95]\tTime 59.420 (71.523)\tData 0.000 (0.237)\tLoss 11.2715 (33.1907)\t\n",
      "Epoch: [1][76/95]\tTime 110.141 (72.031)\tData 0.000 (0.234)\tLoss 61.8119 (33.5673)\t\n",
      "Epoch: [1][77/95]\tTime 98.574 (72.376)\tData 0.234 (0.234)\tLoss 9.9609 (33.2607)\t\n",
      "Epoch: [1][78/95]\tTime 68.790 (72.330)\tData 0.016 (0.231)\tLoss 11.6542 (32.9837)\t\n",
      "Epoch: [1][79/95]\tTime 55.931 (72.122)\tData 0.016 (0.228)\tLoss 12.5443 (32.7250)\t\n",
      "Epoch: [1][80/95]\tTime 79.083 (72.209)\tData 0.016 (0.226)\tLoss 9.1497 (32.4303)\t\n"
     ]
    },
    {
     "name": "stdout",
     "output_type": "stream",
     "text": [
      "Epoch: [1][81/95]\tTime 68.556 (72.164)\tData 0.016 (0.223)\tLoss 7.6395 (32.1243)\t\n",
      "Epoch: [1][82/95]\tTime 51.728 (71.915)\tData 0.000 (0.220)\tLoss 3.9901 (31.7812)\t\n",
      "Epoch: [1][83/95]\tTime 55.939 (71.723)\tData 0.000 (0.218)\tLoss 11.4797 (31.5366)\t\n",
      "Epoch: [1][84/95]\tTime 56.985 (71.547)\tData 0.000 (0.215)\tLoss 8.2853 (31.2598)\t\n",
      "Epoch: [1][85/95]\tTime 58.484 (71.393)\tData 0.000 (0.213)\tLoss 9.4733 (31.0035)\t\n",
      "Epoch: [1][86/95]\tTime 65.179 (71.321)\tData 0.016 (0.210)\tLoss 6.9486 (30.7237)\t\n",
      "Epoch: [1][87/95]\tTime 59.833 (71.189)\tData 0.022 (0.208)\tLoss 6.0450 (30.4401)\t\n",
      "Epoch: [1][88/95]\tTime 46.934 (70.913)\tData 0.016 (0.206)\tLoss 12.2657 (30.2336)\t\n",
      "Epoch: [1][89/95]\tTime 48.964 (70.667)\tData 0.001 (0.204)\tLoss 9.6928 (30.0028)\t\n",
      "Epoch: [1][90/95]\tTime 61.839 (70.569)\tData 0.000 (0.201)\tLoss 13.6130 (29.8207)\t\n",
      "Epoch: [1][91/95]\tTime 54.927 (70.397)\tData 0.016 (0.199)\tLoss 15.7426 (29.6659)\t\n",
      "Epoch: [1][92/95]\tTime 209.417 (71.908)\tData 0.000 (0.197)\tLoss 9.7608 (29.4496)\t\n",
      "Epoch: [1][93/95]\tTime 65.300 (71.837)\tData 0.234 (0.198)\tLoss 12.7480 (29.2700)\t\n",
      "Epoch: [1][94/95]\tTime 71.484 (71.833)\tData 0.000 (0.195)\tLoss 15.2269 (29.1206)\t\n",
      "Epoch: [1][95/95]\tTime 33.542 (71.430)\tData 0.000 (0.193)\tLoss 4.5339 (29.0554)\t\n",
      "Training Summary Epoch: [1]\tTime taken (s): 6786\tAverage Loss 28.862\t\n"
     ]
    },
    {
     "name": "stderr",
     "output_type": "stream",
     "text": [
      "\r",
      "  0%|                                                   | 0/32 [00:00<?, ?it/s]"
     ]
    },
    {
     "name": "stdout",
     "output_type": "stream",
     "text": [
      "T    D I    \n",
      "T  H    \n",
      "T    T     \n",
      "T    D I     \n"
     ]
    },
    {
     "name": "stderr",
     "output_type": "stream",
     "text": [
      "\r",
      "  3%|█▎                                         | 1/32 [00:10<05:20, 10.34s/it]"
     ]
    },
    {
     "name": "stdout",
     "output_type": "stream",
     "text": [
      "T  H    \n",
      "T  J    S\n",
      "T    H     \n",
      "T    E    \n"
     ]
    },
    {
     "name": "stderr",
     "output_type": "stream",
     "text": [
      "\r",
      "  6%|██▋                                        | 2/32 [00:15<03:51,  7.72s/it]"
     ]
    },
    {
     "name": "stdout",
     "output_type": "stream",
     "text": [
      "T   T     \n",
      "T     Y      C\n",
      "T    T F    \n",
      "T   T    \n"
     ]
    },
    {
     "name": "stderr",
     "output_type": "stream",
     "text": [
      "\r",
      "  9%|████                                       | 3/32 [00:20<03:21,  6.94s/it]"
     ]
    },
    {
     "name": "stdout",
     "output_type": "stream",
     "text": [
      "T    I     \n",
      "T    I    F  \n",
      "T   W    \n",
      "T   A       \n"
     ]
    },
    {
     "name": "stderr",
     "output_type": "stream",
     "text": [
      "\r",
      " 12%|█████▍                                     | 4/32 [00:27<03:09,  6.78s/it]"
     ]
    },
    {
     "name": "stdout",
     "output_type": "stream",
     "text": [
      "T    T      \n",
      "T    O       \n",
      "T    I       \n",
      "T    W      M D \n"
     ]
    },
    {
     "name": "stderr",
     "output_type": "stream",
     "text": [
      "\r",
      " 16%|██████▋                                    | 5/32 [00:35<03:11,  7.09s/it]"
     ]
    },
    {
     "name": "stdout",
     "output_type": "stream",
     "text": [
      "T    P     \n",
      "T   T    \n",
      "T   F      \n",
      "T     W       \n"
     ]
    },
    {
     "name": "stderr",
     "output_type": "stream",
     "text": [
      "\r",
      " 19%|████████                                   | 6/32 [00:44<03:12,  7.39s/it]"
     ]
    },
    {
     "name": "stdout",
     "output_type": "stream",
     "text": [
      "T     M     F' \n",
      "T    T    \n",
      "T  D   \n",
      "T     C  U   \n"
     ]
    },
    {
     "name": "stderr",
     "output_type": "stream",
     "text": [
      "\r",
      " 22%|█████████▍                                 | 7/32 [00:50<03:00,  7.24s/it]"
     ]
    },
    {
     "name": "stdout",
     "output_type": "stream",
     "text": [
      "T   S    \n",
      "T    E    \n",
      "T   T     \n",
      "T    T     \n"
     ]
    },
    {
     "name": "stderr",
     "output_type": "stream",
     "text": [
      "\r",
      " 25%|██████████▊                                | 8/32 [00:56<02:48,  7.04s/it]"
     ]
    },
    {
     "name": "stdout",
     "output_type": "stream",
     "text": [
      "T     I    \n",
      "T  A   \n",
      "T     B        \n",
      "T   W       \n"
     ]
    },
    {
     "name": "stderr",
     "output_type": "stream",
     "text": [
      "\r",
      " 28%|████████████                               | 9/32 [01:02<02:38,  6.89s/it]"
     ]
    },
    {
     "name": "stdout",
     "output_type": "stream",
     "text": [
      "T  I    \n",
      "T         \n",
      "T      I       \n",
      "T    M MN    \n"
     ]
    },
    {
     "name": "stderr",
     "output_type": "stream",
     "text": [
      "\r",
      " 31%|█████████████▏                            | 10/32 [01:07<02:29,  6.79s/it]"
     ]
    },
    {
     "name": "stdout",
     "output_type": "stream",
     "text": [
      "T     S     E  W\n",
      "T     C           \n",
      "T   T     \n",
      "T    E  '  \n"
     ]
    },
    {
     "name": "stderr",
     "output_type": "stream",
     "text": [
      "\r",
      " 34%|██████████████▍                           | 11/32 [01:16<02:25,  6.93s/it]"
     ]
    },
    {
     "name": "stdout",
     "output_type": "stream",
     "text": [
      "T     H        \n",
      "T    S     \n",
      "T   T          \n",
      "T   H    \n"
     ]
    },
    {
     "name": "stderr",
     "output_type": "stream",
     "text": [
      "\r",
      " 38%|███████████████▊                          | 12/32 [01:22<02:17,  6.87s/it]"
     ]
    },
    {
     "name": "stdout",
     "output_type": "stream",
     "text": [
      "T   W    \n",
      "T    T     \n",
      "T    B   I '   \n",
      "T   ADVENTURE     \n"
     ]
    },
    {
     "name": "stderr",
     "output_type": "stream",
     "text": [
      "\r",
      " 41%|█████████████████                         | 13/32 [01:28<02:09,  6.79s/it]"
     ]
    },
    {
     "name": "stdout",
     "output_type": "stream",
     "text": [
      "T  H I     \n",
      "T     A  '      \n",
      "T     A       \n",
      "T   A     \n"
     ]
    },
    {
     "name": "stderr",
     "output_type": "stream",
     "text": [
      "\r",
      " 44%|██████████████████▍                       | 14/32 [01:34<02:01,  6.72s/it]"
     ]
    },
    {
     "name": "stdout",
     "output_type": "stream",
     "text": [
      "T    I      \n",
      "T         G R         \n",
      "T   I    \n",
      "T  M        \n"
     ]
    },
    {
     "name": "stderr",
     "output_type": "stream",
     "text": [
      "\r",
      " 47%|███████████████████▋                      | 15/32 [01:42<01:56,  6.83s/it]"
     ]
    },
    {
     "name": "stdout",
     "output_type": "stream",
     "text": [
      "T    L '   S G\n",
      "T    I           \n",
      "T   F      \n",
      "T   W'      \n"
     ]
    },
    {
     "name": "stderr",
     "output_type": "stream",
     "text": [
      "\r",
      " 50%|█████████████████████                     | 16/32 [01:49<01:49,  6.85s/it]"
     ]
    },
    {
     "name": "stdout",
     "output_type": "stream",
     "text": [
      "T   I      \n",
      "T    T      \n",
      "T   I    \n",
      "T   L'    \n"
     ]
    },
    {
     "name": "stderr",
     "output_type": "stream",
     "text": [
      "\r",
      " 53%|██████████████████████▎                   | 17/32 [01:56<01:42,  6.85s/it]"
     ]
    },
    {
     "name": "stdout",
     "output_type": "stream",
     "text": [
      "T     I    \n",
      "T    T       \n",
      "T    A    B\n",
      "T  B     \n"
     ]
    },
    {
     "name": "stderr",
     "output_type": "stream",
     "text": [
      "\r",
      " 56%|███████████████████████▋                  | 18/32 [02:02<01:35,  6.80s/it]"
     ]
    },
    {
     "name": "stdout",
     "output_type": "stream",
     "text": [
      "T     E           \n",
      "T    T     \n",
      "T    I '    \n",
      "T     T      \n"
     ]
    },
    {
     "name": "stderr",
     "output_type": "stream",
     "text": [
      "\r",
      " 59%|████████████████████████▉                 | 19/32 [02:08<01:28,  6.79s/it]"
     ]
    },
    {
     "name": "stdout",
     "output_type": "stream",
     "text": [
      "T     F     \n",
      "T   F     \n",
      "T    I   L   \n",
      "T    T      \n"
     ]
    },
    {
     "name": "stderr",
     "output_type": "stream",
     "text": [
      "\r",
      " 62%|██████████████████████████▎               | 20/32 [02:15<01:21,  6.75s/it]"
     ]
    },
    {
     "name": "stdout",
     "output_type": "stream",
     "text": [
      "T    G P     \n",
      "T    K M   \n",
      "T   H    \n",
      "T    T    \n"
     ]
    },
    {
     "name": "stderr",
     "output_type": "stream",
     "text": [
      "\r",
      " 66%|███████████████████████████▌              | 21/32 [02:20<01:13,  6.71s/it]"
     ]
    },
    {
     "name": "stdout",
     "output_type": "stream",
     "text": [
      "T   T    \n",
      "T    S       A N\n",
      "T   T     \n",
      "T    S'    \n"
     ]
    },
    {
     "name": "stderr",
     "output_type": "stream",
     "text": [
      "\r",
      " 69%|████████████████████████████▉             | 22/32 [02:26<01:06,  6.68s/it]"
     ]
    },
    {
     "name": "stdout",
     "output_type": "stream",
     "text": [
      "T   T       O  F  O\n",
      "T  T    \n",
      "T    W      B    \n",
      "T  H     \n"
     ]
    },
    {
     "name": "stderr",
     "output_type": "stream",
     "text": [
      "\r",
      " 72%|██████████████████████████████▏           | 23/32 [02:34<01:00,  6.71s/it]"
     ]
    },
    {
     "name": "stdout",
     "output_type": "stream",
     "text": [
      "T    I     \n",
      "T   W    \n",
      "T    T         \n",
      "T    E    \n"
     ]
    },
    {
     "name": "stderr",
     "output_type": "stream",
     "text": [
      "\r",
      " 75%|███████████████████████████████▌          | 24/32 [02:40<00:53,  6.68s/it]"
     ]
    },
    {
     "name": "stdout",
     "output_type": "stream",
     "text": [
      "T     B C      \n",
      "T   D    \n",
      "T   H    \n",
      "T  T     \n"
     ]
    },
    {
     "name": "stderr",
     "output_type": "stream",
     "text": [
      "\r",
      " 78%|████████████████████████████████▊         | 25/32 [02:45<00:46,  6.63s/it]"
     ]
    },
    {
     "name": "stdout",
     "output_type": "stream",
     "text": [
      "T   M C    \n",
      "T     A   M U   \n",
      "T    I    I \n",
      "T   T FBI   \n"
     ]
    },
    {
     "name": "stderr",
     "output_type": "stream",
     "text": [
      "\r",
      " 81%|██████████████████████████████████▏       | 26/32 [02:51<00:39,  6.60s/it]"
     ]
    },
    {
     "name": "stdout",
     "output_type": "stream",
     "text": [
      "T    T       \n",
      "T    T     \n",
      "T     W      \n",
      "T   P     \n"
     ]
    },
    {
     "name": "stderr",
     "output_type": "stream",
     "text": [
      "\r",
      " 84%|███████████████████████████████████▍      | 27/32 [02:57<00:32,  6.57s/it]"
     ]
    },
    {
     "name": "stdout",
     "output_type": "stream",
     "text": [
      "T   T        E P\n",
      "T     T       \n",
      "T    T             \n",
      "T    T    \n"
     ]
    },
    {
     "name": "stderr",
     "output_type": "stream",
     "text": [
      "\r",
      " 88%|████████████████████████████████████▊     | 28/32 [03:04<00:26,  6.60s/it]"
     ]
    },
    {
     "name": "stdout",
     "output_type": "stream",
     "text": [
      "T    W        \n",
      "T   N     \n",
      "T    I    \n",
      "T    I        \n"
     ]
    },
    {
     "name": "stderr",
     "output_type": "stream",
     "text": [
      "\r",
      " 91%|██████████████████████████████████████    | 29/32 [03:11<00:19,  6.59s/it]"
     ]
    },
    {
     "name": "stdout",
     "output_type": "stream",
     "text": [
      "T    T'      \n",
      "T   H    \n",
      "T  D   \n",
      "T   A     \n"
     ]
    },
    {
     "name": "stderr",
     "output_type": "stream",
     "text": [
      "\r",
      " 94%|███████████████████████████████████████▍  | 30/32 [03:15<00:13,  6.53s/it]"
     ]
    },
    {
     "name": "stdout",
     "output_type": "stream",
     "text": [
      "T T  T       \n",
      "T   Y'    \n",
      "T     C        \n",
      "T   I     \n"
     ]
    },
    {
     "name": "stderr",
     "output_type": "stream",
     "text": [
      "\r",
      " 97%|████████████████████████████████████████▋ | 31/32 [03:24<00:06,  6.60s/it]"
     ]
    },
    {
     "name": "stdout",
     "output_type": "stream",
     "text": [
      "T     A     \n",
      "T      T         \n"
     ]
    },
    {
     "name": "stderr",
     "output_type": "stream",
     "text": [
      "100%|██████████████████████████████████████████| 32/32 [03:28<00:00,  6.51s/it]\n"
     ]
    },
    {
     "name": "stdout",
     "output_type": "stream",
     "text": [
      "Validation Summary Epoch: [1]\tAverage WER 76.521\tAverage CER 16.265\t\n",
      "Learning rate annealed to: 0.000273\n",
      "Found better validated model, saving to models/deepspeech_final.pth\n",
      "Shuffling batches...\n",
      "Epoch: [2][1/95]\tTime 55.149 (71.261)\tData 9.253 (0.288)\tLoss 6.9523 (28.8233)\t\n",
      "Epoch: [2][2/95]\tTime 167.563 (72.253)\tData 0.000 (0.285)\tLoss 11.9533 (28.6481)\t\n",
      "Epoch: [2][3/95]\tTime 98.240 (72.519)\tData 0.268 (0.285)\tLoss 7.4304 (28.4299)\t\n",
      "Epoch: [2][4/95]\tTime 92.916 (72.725)\tData 0.016 (0.282)\tLoss 12.4983 (28.2677)\t\n",
      "Epoch: [2][5/95]\tTime 96.378 (72.961)\tData 0.031 (0.279)\tLoss 5.5915 (28.0393)\t\n",
      "Epoch: [2][6/95]\tTime 68.615 (72.918)\tData 0.000 (0.277)\tLoss 9.6430 (27.8558)\t\n",
      "Epoch: [2][7/95]\tTime 69.277 (72.882)\tData 0.000 (0.274)\tLoss 4.8872 (27.6289)\t\n",
      "Epoch: [2][8/95]\tTime 85.314 (73.003)\tData 0.016 (0.271)\tLoss 6.3019 (27.4203)\t\n",
      "Epoch: [2][9/95]\tTime 51.009 (72.792)\tData 0.016 (0.269)\tLoss 5.1609 (27.2047)\t\n",
      "Epoch: [2][10/95]\tTime 42.869 (72.507)\tData 0.000 (0.266)\tLoss 7.2436 (27.0133)\t\n",
      "Epoch: [2][11/95]\tTime 182.141 (73.541)\tData 0.000 (0.264)\tLoss 16.3665 (26.9121)\t\n",
      "Epoch: [2][12/95]\tTime 83.788 (73.637)\tData 0.349 (0.265)\tLoss 12.4822 (26.7763)\t\n",
      "Epoch: [2][13/95]\tTime 51.239 (73.429)\tData 0.016 (0.262)\tLoss 14.3357 (26.6603)\t\n",
      "Epoch: [2][14/95]\tTime 57.718 (73.285)\tData 0.000 (0.260)\tLoss 11.1618 (26.5171)\t\n",
      "Epoch: [2][15/95]\tTime 57.534 (73.142)\tData 0.000 (0.258)\tLoss 9.8831 (26.3649)\t\n",
      "Epoch: [2][16/95]\tTime 60.095 (73.024)\tData 0.016 (0.255)\tLoss 6.6847 (26.1864)\t\n",
      "Epoch: [2][17/95]\tTime 52.044 (72.837)\tData 0.000 (0.253)\tLoss 16.3139 (26.0976)\t\n",
      "Epoch: [2][18/95]\tTime 50.152 (72.636)\tData 0.000 (0.251)\tLoss 6.6746 (25.9246)\t\n",
      "Epoch: [2][19/95]\tTime 50.881 (72.445)\tData 0.000 (0.249)\tLoss 6.1878 (25.7503)\t\n",
      "Epoch: [2][20/95]\tTime 50.459 (72.254)\tData 0.016 (0.247)\tLoss 12.8055 (25.6370)\t\n",
      "Epoch: [2][21/95]\tTime 85.992 (72.373)\tData 0.000 (0.245)\tLoss 8.3322 (25.4869)\t\n",
      "Epoch: [2][22/95]\tTime 59.185 (72.260)\tData 0.000 (0.242)\tLoss 7.8260 (25.3349)\t\n",
      "Epoch: [2][23/95]\tTime 63.139 (72.183)\tData 0.016 (0.241)\tLoss 6.1284 (25.1711)\t\n",
      "Epoch: [2][24/95]\tTime 49.323 (71.991)\tData 0.000 (0.239)\tLoss 6.2903 (25.0115)\t\n",
      "Epoch: [2][25/95]\tTime 67.023 (71.949)\tData 0.000 (0.237)\tLoss 8.3215 (24.8715)\t\n",
      "Epoch: [2][26/95]\tTime 182.987 (72.867)\tData 0.000 (0.235)\tLoss 8.7420 (24.7374)\t\n",
      "Epoch: [2][27/95]\tTime 69.779 (72.842)\tData 0.109 (0.234)\tLoss 5.1376 (24.5757)\t\n",
      "Epoch: [2][28/95]\tTime 55.336 (72.699)\tData 0.016 (0.232)\tLoss 12.1969 (24.4745)\t\n",
      "Epoch: [2][29/95]\tTime 143.570 (73.271)\tData 0.016 (0.230)\tLoss 6.8982 (24.3319)\t\n",
      "Epoch: [2][30/95]\tTime 66.501 (73.217)\tData 0.275 (0.230)\tLoss 14.7684 (24.2549)\t\n",
      "Epoch: [2][31/95]\tTime 47.920 (73.016)\tData 0.016 (0.229)\tLoss 9.6191 (24.1380)\t\n",
      "Epoch: [2][32/95]\tTime 62.674 (72.934)\tData 0.016 (0.227)\tLoss 14.8579 (24.0645)\t\n",
      "Epoch: [2][33/95]\tTime 47.555 (72.736)\tData 0.000 (0.225)\tLoss 8.1907 (23.9398)\t\n",
      "Epoch: [2][34/95]\tTime 72.453 (72.734)\tData 0.000 (0.224)\tLoss 15.9257 (23.8773)\t\n",
      "Epoch: [2][35/95]\tTime 56.548 (72.609)\tData 0.016 (0.222)\tLoss 8.6668 (23.7596)\t\n",
      "Epoch: [2][36/95]\tTime 62.305 (72.531)\tData 0.000 (0.220)\tLoss 9.1008 (23.6471)\t\n",
      "Epoch: [2][37/95]\tTime 57.527 (72.417)\tData 0.016 (0.219)\tLoss 9.8917 (23.5423)\t\n",
      "Epoch: [2][38/95]\tTime 50.423 (72.252)\tData 0.016 (0.217)\tLoss 10.3544 (23.4426)\t\n",
      "Epoch: [2][39/95]\tTime 41.548 (72.023)\tData 0.000 (0.216)\tLoss 8.9499 (23.3338)\t\n",
      "Epoch: [2][40/95]\tTime 109.300 (72.299)\tData 0.000 (0.214)\tLoss 4.9049 (23.1965)\t\n",
      "Epoch: [2][41/95]\tTime 77.852 (72.340)\tData 0.047 (0.213)\tLoss 7.5941 (23.0812)\t\n",
      "Epoch: [2][42/95]\tTime 47.208 (72.156)\tData 0.016 (0.211)\tLoss 8.0876 (22.9711)\t\n",
      "Epoch: [2][43/95]\tTime 47.992 (71.981)\tData 0.000 (0.210)\tLoss 7.2982 (22.8569)\t\n",
      "Epoch: [2][44/95]\tTime 60.903 (71.901)\tData 0.000 (0.208)\tLoss 8.5685 (22.7536)\t\n",
      "Epoch: [2][45/95]\tTime 61.105 (71.824)\tData 0.000 (0.207)\tLoss 5.5102 (22.6297)\t\n",
      "Epoch: [2][46/95]\tTime 124.308 (72.196)\tData 0.000 (0.205)\tLoss 6.8723 (22.5174)\t\n",
      "Epoch: [2][47/95]\tTime 61.620 (72.122)\tData 0.047 (0.204)\tLoss 6.6556 (22.4051)\t\n",
      "Epoch: [2][48/95]\tTime 67.916 (72.093)\tData 0.000 (0.203)\tLoss 7.8266 (22.3026)\t\n",
      "Epoch: [2][49/95]\tTime 58.891 (72.001)\tData 0.000 (0.201)\tLoss 10.4774 (22.2201)\t\n",
      "Epoch: [2][50/95]\tTime 52.846 (71.869)\tData 0.000 (0.200)\tLoss 6.3056 (22.1097)\t\n",
      "Epoch: [2][51/95]\tTime 60.393 (71.790)\tData 0.016 (0.199)\tLoss 9.9657 (22.0261)\t\n",
      "Epoch: [2][52/95]\tTime 44.372 (71.604)\tData 0.000 (0.197)\tLoss 5.7069 (21.9145)\t\n",
      "Epoch: [2][53/95]\tTime 81.705 (71.672)\tData 0.016 (0.196)\tLoss 8.5554 (21.8238)\t\n",
      "Epoch: [2][54/95]\tTime 56.225 (71.568)\tData 0.000 (0.195)\tLoss 9.0008 (21.7373)\t\n",
      "Epoch: [2][55/95]\tTime 44.527 (71.388)\tData 0.000 (0.193)\tLoss 12.4357 (21.6750)\t\n",
      "Epoch: [2][56/95]\tTime 52.319 (71.262)\tData 0.000 (0.192)\tLoss 6.0605 (21.5711)\t\n",
      "Epoch: [2][57/95]\tTime 68.707 (71.245)\tData 0.000 (0.191)\tLoss 5.6600 (21.4659)\t\n",
      "Epoch: [2][58/95]\tTime 69.166 (71.231)\tData 0.016 (0.190)\tLoss 8.7499 (21.3824)\t\n",
      "Epoch: [2][59/95]\tTime 137.356 (71.661)\tData 0.000 (0.189)\tLoss 11.7472 (21.3195)\t\n",
      "Epoch: [2][60/95]\tTime 80.104 (71.715)\tData 0.266 (0.189)\tLoss 4.2448 (21.2088)\t\n",
      "Epoch: [2][61/95]\tTime 53.873 (71.601)\tData 0.000 (0.188)\tLoss 6.5907 (21.1146)\t\n",
      "Epoch: [2][62/95]\tTime 67.744 (71.576)\tData 0.000 (0.187)\tLoss 9.5955 (21.0409)\t\n",
      "Epoch: [2][63/95]\tTime 56.124 (71.478)\tData 0.016 (0.186)\tLoss 13.9371 (20.9957)\t\n",
      "Epoch: [2][64/95]\tTime 53.013 (71.362)\tData 0.016 (0.184)\tLoss 6.4023 (20.9035)\t\n",
      "Epoch: [2][65/95]\tTime 64.596 (71.320)\tData 0.016 (0.183)\tLoss 4.2753 (20.7991)\t\n",
      "Epoch: [2][66/95]\tTime 73.436 (71.333)\tData 0.000 (0.182)\tLoss 4.1695 (20.6953)\t\n",
      "Epoch: [2][67/95]\tTime 76.661 (71.366)\tData 0.016 (0.181)\tLoss 5.9337 (20.6038)\t\n",
      "Epoch: [2][68/95]\tTime 51.655 (71.245)\tData 0.000 (0.180)\tLoss 11.2364 (20.5460)\t\n",
      "Epoch: [2][69/95]\tTime 55.015 (71.146)\tData 0.005 (0.179)\tLoss 6.0011 (20.4569)\t\n",
      "Epoch: [2][70/95]\tTime 275.552 (72.385)\tData 0.000 (0.178)\tLoss 7.1256 (20.3758)\t\n",
      "Epoch: [2][71/95]\tTime 82.003 (72.443)\tData 0.477 (0.180)\tLoss 8.9206 (20.3065)\t\n",
      "Epoch: [2][72/95]\tTime 65.923 (72.404)\tData 0.000 (0.179)\tLoss 5.7578 (20.2190)\t\n",
      "Epoch: [2][73/95]\tTime 65.851 (72.365)\tData 0.000 (0.178)\tLoss 8.3369 (20.1479)\t\n",
      "Epoch: [2][74/95]\tTime 43.461 (72.194)\tData 0.016 (0.177)\tLoss 9.6672 (20.0856)\t\n",
      "Epoch: [2][75/95]\tTime 34.282 (71.971)\tData 0.000 (0.176)\tLoss 5.7402 (20.0643)\t\n",
      "Epoch: [2][76/95]\tTime 90.015 (72.076)\tData 0.000 (0.175)\tLoss 6.4682 (19.9841)\t\n",
      "Epoch: [2][77/95]\tTime 85.120 (72.152)\tData 0.016 (0.174)\tLoss 7.0564 (19.9083)\t\n",
      "Epoch: [2][78/95]\tTime 60.344 (72.084)\tData 0.016 (0.173)\tLoss 7.3259 (19.8349)\t\n",
      "Epoch: [2][79/95]\tTime 89.341 (72.183)\tData 0.016 (0.172)\tLoss 8.3845 (19.7685)\t\n",
      "Epoch: [2][80/95]\tTime 60.596 (72.117)\tData 0.000 (0.171)\tLoss 7.1541 (19.6958)\t\n",
      "Epoch: [2][81/95]\tTime 54.818 (72.019)\tData 0.016 (0.170)\tLoss 5.9072 (19.6168)\t\n",
      "Epoch: [2][82/95]\tTime 84.801 (72.091)\tData 0.021 (0.169)\tLoss 10.0067 (19.5621)\t\n",
      "Epoch: [2][83/95]\tTime 73.247 (72.097)\tData 0.016 (0.168)\tLoss 8.2819 (19.4982)\t\n",
      "Epoch: [2][84/95]\tTime 68.266 (72.076)\tData 0.016 (0.167)\tLoss 7.8211 (19.4324)\t\n",
      "Epoch: [2][85/95]\tTime 115.405 (72.317)\tData 0.016 (0.167)\tLoss 9.3202 (19.3757)\t\n",
      "Epoch: [2][86/95]\tTime 139.862 (72.690)\tData 0.031 (0.166)\tLoss 6.8656 (19.3060)\t\n",
      "Epoch: [2][87/95]\tTime 79.927 (72.730)\tData 0.253 (0.166)\tLoss 69.1472 (19.5822)\t\n",
      "Epoch: [2][88/95]\tTime 57.182 (72.645)\tData 0.016 (0.166)\tLoss 6.8992 (19.5123)\t\n",
      "Epoch: [2][89/95]\tTime 55.452 (72.551)\tData 0.000 (0.165)\tLoss 9.5596 (19.4577)\t\n",
      "Epoch: [2][90/95]\tTime 59.520 (72.481)\tData 0.000 (0.164)\tLoss 14.3555 (19.4299)\t\n",
      "Epoch: [2][91/95]\tTime 58.938 (72.408)\tData 0.000 (0.163)\tLoss 7.7752 (19.3668)\t\n",
      "Epoch: [2][92/95]\tTime 57.246 (72.327)\tData 0.000 (0.162)\tLoss 5.7742 (19.2935)\t\n",
      "Epoch: [2][93/95]\tTime 51.510 (72.216)\tData 0.016 (0.161)\tLoss 8.2464 (19.2343)\t\n",
      "Epoch: [2][94/95]\tTime 46.461 (72.080)\tData 0.016 (0.160)\tLoss 11.4907 (19.1930)\t\n",
      "Epoch: [2][95/95]\tTime 44.193 (71.933)\tData 0.016 (0.160)\tLoss 7.8566 (19.1328)\t\n",
      "Training Summary Epoch: [2]\tTime taken (s): 6881\tAverage Loss 9.183\t\n"
     ]
    },
    {
     "name": "stderr",
     "output_type": "stream",
     "text": [
      "\r",
      "  0%|                                                   | 0/32 [00:00<?, ?it/s]"
     ]
    },
    {
     "name": "stdout",
     "output_type": "stream",
     "text": [
      "T   D I    \n",
      "T   H    \n",
      "T    T     \n",
      "T   D I     \n"
     ]
    },
    {
     "name": "stderr",
     "output_type": "stream",
     "text": [
      "\r",
      "  3%|█▎                                         | 1/32 [00:10<05:24, 10.46s/it]"
     ]
    },
    {
     "name": "stdout",
     "output_type": "stream",
     "text": [
      "T  H    \n",
      "T   J    S\n",
      "T    H     \n",
      "T  E    \n"
     ]
    },
    {
     "name": "stderr",
     "output_type": "stream",
     "text": [
      "\r",
      "  6%|██▋                                        | 2/32 [00:15<03:58,  7.96s/it]"
     ]
    },
    {
     "name": "stdout",
     "output_type": "stream",
     "text": [
      "T   T     \n",
      "T  Y      C\n",
      "T   T F    \n",
      "T   T    \n"
     ]
    },
    {
     "name": "stderr",
     "output_type": "stream",
     "text": [
      "\r",
      "  9%|████                                       | 3/32 [00:21<03:28,  7.19s/it]"
     ]
    },
    {
     "name": "stdout",
     "output_type": "stream",
     "text": [
      "T    I     \n",
      "T   I    F  \n",
      "T    W    \n",
      "T  A       \n"
     ]
    },
    {
     "name": "stderr",
     "output_type": "stream",
     "text": [
      "\r",
      " 12%|█████▍                                     | 4/32 [00:28<03:16,  7.02s/it]"
     ]
    },
    {
     "name": "stdout",
     "output_type": "stream",
     "text": [
      "T     T      \n",
      "T   O       \n",
      "T   I       \n",
      "T   W      M D \n"
     ]
    },
    {
     "name": "stderr",
     "output_type": "stream",
     "text": [
      "\r",
      " 16%|██████▋                                    | 5/32 [00:37<03:21,  7.45s/it]"
     ]
    },
    {
     "name": "stdout",
     "output_type": "stream",
     "text": [
      "T    P     \n",
      "T   T    \n",
      "T   F      \n",
      "T    W       \n"
     ]
    },
    {
     "name": "stderr",
     "output_type": "stream",
     "text": [
      "\r",
      " 19%|████████                                   | 6/32 [00:46<03:21,  7.76s/it]"
     ]
    },
    {
     "name": "stdout",
     "output_type": "stream",
     "text": [
      "T      M     F' \n",
      "T    T    \n",
      "T   D   \n",
      "T   C  U   \n"
     ]
    },
    {
     "name": "stderr",
     "output_type": "stream",
     "text": [
      "\r",
      " 22%|█████████▍                                 | 7/32 [00:53<03:09,  7.59s/it]"
     ]
    },
    {
     "name": "stdout",
     "output_type": "stream",
     "text": [
      "T   S    \n",
      "T  E    \n",
      "T  T     \n",
      "T   T     \n"
     ]
    },
    {
     "name": "stderr",
     "output_type": "stream",
     "text": [
      "\r",
      " 25%|██████████▊                                | 8/32 [00:59<02:57,  7.40s/it]"
     ]
    },
    {
     "name": "stdout",
     "output_type": "stream",
     "text": [
      "T    I    \n",
      "T   A   \n",
      "T     B        \n",
      "T    W       \n"
     ]
    },
    {
     "name": "stderr",
     "output_type": "stream",
     "text": [
      "\r",
      " 28%|████████████                               | 9/32 [01:05<02:48,  7.31s/it]"
     ]
    },
    {
     "name": "stdout",
     "output_type": "stream",
     "text": [
      "T  I    \n",
      "T         \n",
      "T    I       \n",
      "T   M MN    \n"
     ]
    },
    {
     "name": "stderr",
     "output_type": "stream",
     "text": [
      "\r",
      " 31%|█████████████▏                            | 10/32 [01:11<02:37,  7.18s/it]"
     ]
    },
    {
     "name": "stdout",
     "output_type": "stream",
     "text": [
      "T      S     E  W\n",
      "T       C           \n",
      "T   T     \n",
      "T   E  '  \n"
     ]
    },
    {
     "name": "stderr",
     "output_type": "stream",
     "text": [
      "\r",
      " 34%|██████████████▍                           | 11/32 [01:20<02:33,  7.32s/it]"
     ]
    },
    {
     "name": "stdout",
     "output_type": "stream",
     "text": [
      "T     H        \n",
      "T    S     \n",
      "T   T          \n",
      "T    H    \n"
     ]
    },
    {
     "name": "stderr",
     "output_type": "stream",
     "text": [
      "\r",
      " 38%|███████████████▊                          | 12/32 [01:27<02:25,  7.25s/it]"
     ]
    },
    {
     "name": "stdout",
     "output_type": "stream",
     "text": [
      "T   W    \n",
      "T   T     \n",
      "T   B   I '   \n",
      "T   ADVENTURE     \n"
     ]
    },
    {
     "name": "stderr",
     "output_type": "stream",
     "text": [
      "\r",
      " 41%|█████████████████                         | 13/32 [01:33<02:15,  7.15s/it]"
     ]
    },
    {
     "name": "stdout",
     "output_type": "stream",
     "text": [
      "T  H I     \n",
      "T   A  '      \n",
      "T    A       \n",
      "T   A     \n"
     ]
    },
    {
     "name": "stderr",
     "output_type": "stream",
     "text": [
      "\r",
      " 44%|██████████████████▍                       | 14/32 [01:38<02:07,  7.07s/it]"
     ]
    },
    {
     "name": "stdout",
     "output_type": "stream",
     "text": [
      "T  I      \n",
      "T      G R         \n",
      "T   I    \n",
      "T   M        \n"
     ]
    },
    {
     "name": "stderr",
     "output_type": "stream",
     "text": [
      "\r",
      " 47%|███████████████████▋                      | 15/32 [01:47<02:02,  7.19s/it]"
     ]
    },
    {
     "name": "stdout",
     "output_type": "stream",
     "text": [
      "T     L '   S G\n",
      "T    I           \n",
      "T   F      \n",
      "T    W'      \n"
     ]
    },
    {
     "name": "stderr",
     "output_type": "stream",
     "text": [
      "\r",
      " 50%|█████████████████████                     | 16/32 [01:55<01:55,  7.25s/it]"
     ]
    },
    {
     "name": "stdout",
     "output_type": "stream",
     "text": [
      "T   I      \n",
      "T  T      \n",
      "T   I    \n",
      "T     L'    \n"
     ]
    },
    {
     "name": "stderr",
     "output_type": "stream",
     "text": [
      "\r",
      " 53%|██████████████████████▎                   | 17/32 [02:03<01:48,  7.27s/it]"
     ]
    },
    {
     "name": "stdout",
     "output_type": "stream",
     "text": [
      "T    I    \n",
      "T     T       \n",
      "T   A    B\n",
      "T  B     \n"
     ]
    },
    {
     "name": "stderr",
     "output_type": "stream",
     "text": [
      "\r",
      " 56%|███████████████████████▋                  | 18/32 [02:09<01:40,  7.21s/it]"
     ]
    },
    {
     "name": "stdout",
     "output_type": "stream",
     "text": [
      "T    E           \n",
      "T   T     \n",
      "T   I '    \n",
      "T   T      \n"
     ]
    },
    {
     "name": "stderr",
     "output_type": "stream",
     "text": [
      "\r",
      " 59%|████████████████████████▉                 | 19/32 [02:16<01:33,  7.19s/it]"
     ]
    },
    {
     "name": "stdout",
     "output_type": "stream",
     "text": [
      "T    F     \n",
      "T  F     \n",
      "T    I   L   \n",
      "T    T      \n"
     ]
    },
    {
     "name": "stderr",
     "output_type": "stream",
     "text": [
      "\r",
      " 62%|██████████████████████████▎               | 20/32 [02:22<01:25,  7.14s/it]"
     ]
    },
    {
     "name": "stdout",
     "output_type": "stream",
     "text": [
      "T    G P     \n",
      "T   K M   \n",
      "T   H    \n",
      "T    T    \n"
     ]
    },
    {
     "name": "stderr",
     "output_type": "stream",
     "text": [
      "\r",
      " 66%|███████████████████████████▌              | 21/32 [02:29<01:18,  7.10s/it]"
     ]
    },
    {
     "name": "stdout",
     "output_type": "stream",
     "text": [
      "T   T    \n",
      "T      S       A N\n",
      "T  T     \n",
      "T    S'    \n"
     ]
    },
    {
     "name": "stderr",
     "output_type": "stream",
     "text": [
      "\r",
      " 69%|████████████████████████████▉             | 22/32 [02:35<01:10,  7.05s/it]"
     ]
    },
    {
     "name": "stdout",
     "output_type": "stream",
     "text": [
      "T   T       O  F  O\n",
      "T   T    \n",
      "T   W      B    \n",
      "T   H     \n"
     ]
    },
    {
     "name": "stderr",
     "output_type": "stream",
     "text": [
      "\r",
      " 72%|██████████████████████████████▏           | 23/32 [02:43<01:03,  7.09s/it]"
     ]
    },
    {
     "name": "stdout",
     "output_type": "stream",
     "text": [
      "T   I     \n",
      "T   W    \n",
      "T    T         \n",
      "T  E    \n"
     ]
    },
    {
     "name": "stderr",
     "output_type": "stream",
     "text": [
      "\r",
      " 75%|███████████████████████████████▌          | 24/32 [02:49<00:56,  7.05s/it]"
     ]
    },
    {
     "name": "stdout",
     "output_type": "stream",
     "text": [
      "T    B C      \n",
      "T   D    \n",
      "T  H    \n",
      "T    T     \n"
     ]
    },
    {
     "name": "stderr",
     "output_type": "stream",
     "text": [
      "\r",
      " 78%|████████████████████████████████▊         | 25/32 [02:55<00:49,  7.00s/it]"
     ]
    },
    {
     "name": "stdout",
     "output_type": "stream",
     "text": [
      "T    M C    \n",
      "T     A   M U   \n",
      "T    I    I \n",
      "T  T FBI   \n"
     ]
    },
    {
     "name": "stderr",
     "output_type": "stream",
     "text": [
      "\r",
      " 81%|██████████████████████████████████▏       | 26/32 [03:01<00:41,  6.97s/it]"
     ]
    },
    {
     "name": "stdout",
     "output_type": "stream",
     "text": [
      "T    T       \n",
      "T    T     \n",
      "T   W      \n",
      "T   P     \n"
     ]
    },
    {
     "name": "stderr",
     "output_type": "stream",
     "text": [
      "\r",
      " 84%|███████████████████████████████████▍      | 27/32 [03:07<00:34,  6.94s/it]"
     ]
    },
    {
     "name": "stdout",
     "output_type": "stream",
     "text": [
      "T  T        E P\n",
      "T   T       \n",
      "T   T             \n",
      "T   T    \n"
     ]
    },
    {
     "name": "stderr",
     "output_type": "stream",
     "text": [
      "\r",
      " 88%|████████████████████████████████████▊     | 28/32 [03:15<00:27,  6.97s/it]"
     ]
    },
    {
     "name": "stdout",
     "output_type": "stream",
     "text": [
      "T    W        \n",
      "T   N     \n",
      "T   I    \n",
      "T     I        \n"
     ]
    },
    {
     "name": "stderr",
     "output_type": "stream",
     "text": [
      "\r",
      " 91%|██████████████████████████████████████    | 29/32 [03:21<00:20,  6.96s/it]"
     ]
    },
    {
     "name": "stdout",
     "output_type": "stream",
     "text": [
      "T     T'      \n",
      "T   H    \n",
      "T  D   \n",
      "T   A     \n"
     ]
    },
    {
     "name": "stderr",
     "output_type": "stream",
     "text": [
      "\r",
      " 94%|███████████████████████████████████████▍  | 30/32 [03:26<00:13,  6.90s/it]"
     ]
    },
    {
     "name": "stdout",
     "output_type": "stream",
     "text": [
      "T     T       \n",
      "T   Y'    \n",
      "T      C        \n",
      "T   I     \n"
     ]
    },
    {
     "name": "stderr",
     "output_type": "stream",
     "text": [
      "\r",
      " 97%|████████████████████████████████████████▋ | 31/32 [03:36<00:06,  6.97s/it]"
     ]
    },
    {
     "name": "stdout",
     "output_type": "stream",
     "text": [
      "T   A     \n",
      "T     T         \n"
     ]
    },
    {
     "name": "stderr",
     "output_type": "stream",
     "text": [
      "100%|██████████████████████████████████████████| 32/32 [03:39<00:00,  6.87s/it]\n"
     ]
    },
    {
     "name": "stdout",
     "output_type": "stream",
     "text": [
      "Validation Summary Epoch: [2]\tAverage WER 75.728\tAverage CER 16.166\t\n",
      "Learning rate annealed to: 0.000248\n",
      "Found better validated model, saving to models/deepspeech_final.pth\n",
      "Shuffling batches...\n",
      "Epoch: [3][1/95]\tTime 67.537 (71.910)\tData 15.854 (0.242)\tLoss 7.7387 (19.0727)\t\n",
      "Epoch: [3][2/95]\tTime 55.836 (71.826)\tData 0.000 (0.241)\tLoss 4.9298 (18.9984)\t\n",
      "Epoch: [3][3/95]\tTime 51.787 (71.722)\tData 0.000 (0.239)\tLoss 6.9704 (18.9356)\t\n",
      "Epoch: [3][4/95]\tTime 169.441 (72.226)\tData 0.036 (0.238)\tLoss 6.6208 (18.8717)\t\n",
      "Epoch: [3][5/95]\tTime 74.207 (72.236)\tData 0.249 (0.238)\tLoss 9.3535 (18.8225)\t\n",
      "Epoch: [3][6/95]\tTime 54.414 (72.145)\tData 0.000 (0.237)\tLoss 12.0062 (18.7874)\t\n",
      "Epoch: [3][7/95]\tTime 50.598 (72.036)\tData 0.000 (0.236)\tLoss 11.8510 (18.7520)\t\n",
      "Epoch: [3][8/95]\tTime 143.786 (72.398)\tData 0.000 (0.235)\tLoss 8.3597 (18.6991)\t\n",
      "Epoch: [3][9/95]\tTime 66.788 (72.370)\tData 0.547 (0.236)\tLoss 10.2720 (18.6564)\t\n",
      "Epoch: [3][10/95]\tTime 63.076 (72.324)\tData 0.016 (0.235)\tLoss 12.7539 (18.6267)\t\n",
      "Epoch: [3][11/95]\tTime 63.408 (72.279)\tData 0.016 (0.234)\tLoss 7.7646 (18.5722)\t\n",
      "Epoch: [3][12/95]\tTime 66.612 (72.251)\tData 0.031 (0.233)\tLoss 4.6827 (18.5029)\t\n",
      "Epoch: [3][13/95]\tTime 45.801 (72.121)\tData 0.016 (0.232)\tLoss 14.8818 (18.4850)\t\n",
      "Epoch: [3][14/95]\tTime 67.763 (72.100)\tData 0.000 (0.231)\tLoss 5.9169 (18.4229)\t\n",
      "Epoch: [3][15/95]\tTime 72.770 (72.103)\tData 0.000 (0.230)\tLoss 8.0439 (18.3719)\t\n",
      "Epoch: [3][16/95]\tTime 129.765 (72.383)\tData 0.000 (0.229)\tLoss 6.2074 (18.3124)\t\n",
      "Epoch: [3][17/95]\tTime 74.027 (72.391)\tData 0.031 (0.228)\tLoss 8.0360 (18.2624)\t\n",
      "Epoch: [3][18/95]\tTime 56.296 (72.313)\tData 0.016 (0.227)\tLoss 11.0245 (18.2274)\t\n",
      "Epoch: [3][19/95]\tTime 44.371 (72.180)\tData 0.016 (0.226)\tLoss 5.9241 (18.1681)\t\n",
      "Epoch: [3][20/95]\tTime 58.989 (72.117)\tData 0.016 (0.225)\tLoss 4.7512 (18.1037)\t\n",
      "Epoch: [3][21/95]\tTime 45.927 (71.993)\tData 0.016 (0.224)\tLoss 16.3319 (18.0953)\t\n",
      "Epoch: [3][22/95]\tTime 54.987 (71.913)\tData 0.000 (0.223)\tLoss 5.9705 (18.0377)\t\n",
      "Epoch: [3][23/95]\tTime 64.775 (71.879)\tData 0.000 (0.222)\tLoss 4.5660 (17.9740)\t\n",
      "Epoch: [3][24/95]\tTime 114.003 (72.076)\tData 0.016 (0.221)\tLoss 4.5836 (17.9110)\t\n",
      "Epoch: [3][25/95]\tTime 79.230 (72.109)\tData 0.094 (0.220)\tLoss 6.4125 (17.8571)\t\n",
      "Epoch: [3][26/95]\tTime 83.313 (72.161)\tData 0.016 (0.219)\tLoss 8.0244 (17.8113)\t\n",
      "Epoch: [3][27/95]\tTime 55.602 (72.085)\tData 0.016 (0.218)\tLoss 11.4726 (17.7818)\t\n",
      "Epoch: [3][28/95]\tTime 60.301 (72.031)\tData 0.000 (0.217)\tLoss 8.6319 (17.7396)\t\n",
      "Epoch: [3][29/95]\tTime 67.906 (72.012)\tData 0.000 (0.216)\tLoss 4.0733 (17.6767)\t\n",
      "Epoch: [3][30/95]\tTime 74.750 (72.024)\tData 0.000 (0.215)\tLoss 8.7196 (17.6358)\t\n",
      "Epoch: [3][31/95]\tTime 58.270 (71.962)\tData 0.000 (0.214)\tLoss 11.0449 (17.6057)\t\n",
      "Epoch: [3][32/95]\tTime 56.737 (71.893)\tData 0.000 (0.213)\tLoss 3.9780 (17.5439)\t\n",
      "Epoch: [3][33/95]\tTime 58.447 (71.833)\tData 0.016 (0.212)\tLoss 5.7866 (17.4908)\t\n",
      "Epoch: [3][34/95]\tTime 45.925 (71.717)\tData 0.016 (0.211)\tLoss 5.4609 (17.4368)\t\n",
      "Epoch: [3][35/95]\tTime 78.571 (71.748)\tData 0.016 (0.211)\tLoss 8.3904 (17.3963)\t\n",
      "Epoch: [3][36/95]\tTime 57.831 (71.686)\tData 0.000 (0.210)\tLoss 6.4502 (17.3475)\t\n",
      "Epoch: [3][37/95]\tTime 55.819 (71.616)\tData 0.016 (0.209)\tLoss 6.1699 (17.2980)\t\n",
      "Epoch: [3][38/95]\tTime 85.948 (71.679)\tData 0.016 (0.208)\tLoss 5.9076 (17.2477)\t\n",
      "Epoch: [3][39/95]\tTime 64.998 (71.650)\tData 0.000 (0.207)\tLoss 9.9524 (17.2156)\t\n",
      "Epoch: [3][40/95]\tTime 59.580 (71.598)\tData 0.000 (0.206)\tLoss 10.0638 (17.1843)\t\n",
      "Epoch: [3][41/95]\tTime 54.511 (71.524)\tData 0.016 (0.205)\tLoss 5.6187 (17.1339)\t\n",
      "Epoch: [3][42/95]\tTime 53.058 (71.444)\tData 0.000 (0.204)\tLoss 7.7703 (17.0933)\t\n",
      "Epoch: [3][43/95]\tTime 40.327 (71.311)\tData 0.000 (0.204)\tLoss 9.3266 (17.0598)\t\n",
      "Epoch: [3][44/95]\tTime 124.323 (71.537)\tData 0.000 (0.203)\tLoss 5.9975 (17.0122)\t\n",
      "Epoch: [3][45/95]\tTime 69.653 (71.529)\tData 0.109 (0.202)\tLoss 13.1529 (16.9956)\t\n",
      "Epoch: [3][46/95]\tTime 50.880 (71.442)\tData 0.000 (0.201)\tLoss 6.4651 (16.9507)\t\n",
      "Epoch: [3][47/95]\tTime 67.265 (71.424)\tData 0.016 (0.201)\tLoss 7.0157 (16.9085)\t\n",
      "Epoch: [3][48/95]\tTime 90.446 (71.504)\tData 0.000 (0.200)\tLoss 8.8059 (16.8743)\t\n",
      "Epoch: [3][49/95]\tTime 126.902 (71.736)\tData 0.016 (0.199)\tLoss 12.2013 (16.8546)\t\n",
      "Epoch: [3][50/95]\tTime 98.651 (71.848)\tData 0.313 (0.200)\tLoss 6.0845 (16.8095)\t\n",
      "Epoch: [3][51/95]\tTime 60.914 (71.802)\tData 0.000 (0.199)\tLoss 6.0482 (16.7645)\t\n",
      "Epoch: [3][52/95]\tTime 42.063 (71.680)\tData 0.000 (0.198)\tLoss 7.5732 (16.7263)\t\n",
      "Epoch: [3][53/95]\tTime 54.152 (71.607)\tData 0.016 (0.197)\tLoss 12.2904 (16.7079)\t\n",
      "Epoch: [3][54/95]\tTime 52.218 (71.528)\tData 0.000 (0.196)\tLoss 8.3011 (16.6733)\t\n",
      "Epoch: [3][55/95]\tTime 60.703 (71.484)\tData 0.000 (0.196)\tLoss 11.3162 (16.6513)\t\n",
      "Epoch: [3][56/95]\tTime 57.874 (71.428)\tData 0.016 (0.195)\tLoss 6.5617 (16.6100)\t\n",
      "Epoch: [3][57/95]\tTime 49.090 (71.338)\tData 0.000 (0.194)\tLoss 6.5235 (16.5689)\t\n",
      "Epoch: [3][58/95]\tTime 60.868 (71.296)\tData 0.016 (0.193)\tLoss 12.7379 (16.5534)\t\n",
      "Epoch: [3][59/95]\tTime 291.923 (72.182)\tData 0.016 (0.193)\tLoss 9.2377 (16.5238)\t\n",
      "Epoch: [3][60/95]\tTime 136.958 (72.441)\tData 0.344 (0.193)\tLoss 6.0340 (16.4816)\t\n",
      "Epoch: [3][61/95]\tTime 131.352 (72.676)\tData 0.000 (0.192)\tLoss 5.9966 (16.4396)\t\n",
      "Epoch: [3][62/95]\tTime 63.935 (72.641)\tData 0.307 (0.193)\tLoss 6.5343 (16.4000)\t\n",
      "Epoch: [3][63/95]\tTime 61.483 (72.597)\tData 0.016 (0.192)\tLoss 8.8420 (16.3700)\t\n",
      "Epoch: [3][64/95]\tTime 64.652 (72.566)\tData 0.016 (0.191)\tLoss 6.2540 (16.3299)\t\n",
      "Epoch: [3][65/95]\tTime 54.396 (72.494)\tData 0.000 (0.191)\tLoss 9.0031 (16.3010)\t\n",
      "Epoch: [3][66/95]\tTime 94.807 (72.582)\tData 0.000 (0.190)\tLoss 7.9607 (16.2683)\t\n",
      "Epoch: [3][67/95]\tTime 77.521 (72.601)\tData 0.172 (0.190)\tLoss 5.0340 (16.2243)\t\n",
      "Epoch: [3][68/95]\tTime 66.530 (72.577)\tData 0.016 (0.189)\tLoss 7.2568 (16.1893)\t\n",
      "Epoch: [3][69/95]\tTime 51.769 (72.497)\tData 0.000 (0.188)\tLoss 10.2475 (16.1662)\t\n",
      "Epoch: [3][70/95]\tTime 74.241 (72.504)\tData 0.016 (0.188)\tLoss 16.0440 (16.1658)\t\n",
      "Epoch: [3][71/95]\tTime 55.205 (72.437)\tData 0.016 (0.187)\tLoss 5.7865 (16.1258)\t\n",
      "Epoch: [3][72/95]\tTime 52.241 (72.360)\tData 0.016 (0.186)\tLoss 6.7441 (16.0898)\t\n",
      "Epoch: [3][73/95]\tTime 86.613 (72.414)\tData 0.016 (0.186)\tLoss 9.2656 (16.0637)\t\n",
      "Epoch: [3][74/95]\tTime 68.453 (72.399)\tData 0.000 (0.185)\tLoss 13.6614 (16.0545)\t\n",
      "Epoch: [3][75/95]\tTime 47.717 (72.306)\tData 0.016 (0.185)\tLoss 7.6552 (16.0226)\t\n",
      "Epoch: [3][76/95]\tTime 45.585 (72.206)\tData 0.000 (0.184)\tLoss 5.3478 (15.9823)\t\n",
      "Epoch: [3][77/95]\tTime 46.017 (72.108)\tData 0.000 (0.183)\tLoss 4.5075 (15.9391)\t\n",
      "Epoch: [3][78/95]\tTime 67.185 (72.089)\tData 0.000 (0.182)\tLoss 7.0889 (15.9059)\t\n",
      "Epoch: [3][79/95]\tTime 59.439 (72.042)\tData 0.016 (0.182)\tLoss 9.5376 (15.8820)\t\n",
      "Epoch: [3][80/95]\tTime 53.651 (71.974)\tData 0.016 (0.181)\tLoss 7.3751 (15.8504)\t\n",
      "Epoch: [3][81/95]\tTime 34.301 (71.835)\tData 0.000 (0.181)\tLoss 3.8270 (15.8392)\t\n",
      "Epoch: [3][82/95]\tTime 61.087 (71.796)\tData 0.016 (0.180)\tLoss 7.2070 (15.8072)\t\n",
      "Epoch: [3][83/95]\tTime 46.071 (71.701)\tData 0.000 (0.179)\tLoss 6.6323 (15.7733)\t\n",
      "Epoch: [3][84/95]\tTime 68.434 (71.690)\tData 0.016 (0.179)\tLoss 10.7119 (15.7547)\t\n",
      "Epoch: [3][85/95]\tTime 70.388 (71.685)\tData 0.000 (0.178)\tLoss 8.1947 (15.7269)\t\n",
      "Epoch: [3][86/95]\tTime 55.269 (71.625)\tData 0.083 (0.178)\tLoss 3.9827 (15.6840)\t\n",
      "Epoch: [3][87/95]\tTime 176.136 (72.003)\tData 0.016 (0.177)\tLoss 11.5703 (15.6691)\t\n",
      "Epoch: [3][88/95]\tTime 67.770 (71.987)\tData 0.252 (0.177)\tLoss 6.4105 (15.6355)\t\n",
      "Epoch: [3][89/95]\tTime 214.773 (72.499)\tData 0.000 (0.177)\tLoss 16.5375 (15.6388)\t\n",
      "Epoch: [3][90/95]\tTime 90.522 (72.564)\tData 0.281 (0.177)\tLoss 5.5640 (15.6025)\t\n",
      "Epoch: [3][91/95]\tTime 66.957 (72.544)\tData 0.111 (0.177)\tLoss 7.1924 (15.5723)\t\n",
      "Epoch: [3][92/95]\tTime 66.271 (72.521)\tData 0.000 (0.176)\tLoss 9.9130 (15.5521)\t\n",
      "Epoch: [3][93/95]\tTime 56.123 (72.463)\tData 0.000 (0.176)\tLoss 5.5313 (15.5164)\t\n",
      "Epoch: [3][94/95]\tTime 82.763 (72.500)\tData 0.000 (0.175)\tLoss 8.1874 (15.4904)\t\n",
      "Epoch: [3][95/95]\tTime 68.064 (72.484)\tData 0.016 (0.174)\tLoss 8.5222 (15.4657)\t\n",
      "Training Summary Epoch: [3]\tTime taken (s): 6991\tAverage Loss 8.098\t\n"
     ]
    },
    {
     "name": "stderr",
     "output_type": "stream",
     "text": [
      "\r",
      "  0%|                                                   | 0/32 [00:00<?, ?it/s]"
     ]
    },
    {
     "name": "stdout",
     "output_type": "stream",
     "text": [
      "T     D I    \n",
      "T    H    \n",
      "T     T     \n",
      "T    D I     \n"
     ]
    },
    {
     "name": "stderr",
     "output_type": "stream",
     "text": [
      "\r",
      "  3%|█▎                                         | 1/32 [00:11<05:44, 11.12s/it]"
     ]
    },
    {
     "name": "stdout",
     "output_type": "stream",
     "text": [
      "T    H    \n",
      "T    J    S\n",
      "T     H     \n",
      "T     E    \n"
     ]
    },
    {
     "name": "stderr",
     "output_type": "stream",
     "text": [
      "\r",
      "  6%|██▋                                        | 2/32 [00:16<04:06,  8.22s/it]"
     ]
    },
    {
     "name": "stdout",
     "output_type": "stream",
     "text": [
      "T    T     \n",
      "T     Y      C\n",
      "T     T F    \n",
      "T     T    \n"
     ]
    },
    {
     "name": "stderr",
     "output_type": "stream",
     "text": [
      "\r",
      "  9%|████                                       | 3/32 [00:22<03:33,  7.37s/it]"
     ]
    },
    {
     "name": "stdout",
     "output_type": "stream",
     "text": [
      "T    I     \n",
      "T     I    F  \n",
      "T    W    \n",
      "T      A       \n"
     ]
    },
    {
     "name": "stderr",
     "output_type": "stream",
     "text": [
      "\r",
      " 12%|█████▍                                     | 4/32 [00:28<03:20,  7.18s/it]"
     ]
    },
    {
     "name": "stdout",
     "output_type": "stream",
     "text": [
      "T     T      \n",
      "T     O       \n",
      "T     I       \n",
      "T     W      M D \n"
     ]
    },
    {
     "name": "stderr",
     "output_type": "stream",
     "text": [
      "\r",
      " 16%|██████▋                                    | 5/32 [00:38<03:26,  7.67s/it]"
     ]
    },
    {
     "name": "stdout",
     "output_type": "stream",
     "text": [
      "T    P     \n",
      "T    T    \n",
      "T    F      \n",
      "T        W       \n"
     ]
    },
    {
     "name": "stderr",
     "output_type": "stream",
     "text": [
      "\r",
      " 19%|████████                                   | 6/32 [00:48<03:28,  8.00s/it]"
     ]
    },
    {
     "name": "stdout",
     "output_type": "stream",
     "text": [
      "T     M     F' \n",
      "T     T    \n",
      "T    D   \n",
      "T      C  U   \n"
     ]
    },
    {
     "name": "stderr",
     "output_type": "stream",
     "text": [
      "\r",
      " 22%|█████████▍                                 | 7/32 [00:54<03:15,  7.83s/it]"
     ]
    },
    {
     "name": "stdout",
     "output_type": "stream",
     "text": [
      "T     S    \n",
      "T    E    \n",
      "T    T     \n",
      "T     T     \n"
     ]
    },
    {
     "name": "stderr",
     "output_type": "stream",
     "text": [
      "\r",
      " 25%|██████████▊                                | 8/32 [01:00<03:02,  7.62s/it]"
     ]
    },
    {
     "name": "stdout",
     "output_type": "stream",
     "text": [
      "T       I    \n",
      "T   A   \n",
      "T     B        \n",
      "T     W       \n"
     ]
    },
    {
     "name": "stderr",
     "output_type": "stream",
     "text": [
      "\r",
      " 28%|████████████                               | 9/32 [01:07<02:51,  7.46s/it]"
     ]
    },
    {
     "name": "stdout",
     "output_type": "stream",
     "text": [
      "T   I    \n",
      "T          \n",
      "T      I       \n",
      "T     M MN    \n"
     ]
    },
    {
     "name": "stderr",
     "output_type": "stream",
     "text": [
      "\r",
      " 31%|█████████████▏                            | 10/32 [01:13<02:41,  7.33s/it]"
     ]
    },
    {
     "name": "stdout",
     "output_type": "stream",
     "text": [
      "T      S     E  W\n",
      "T      C           \n",
      "T    T     \n",
      "T    E  '  \n"
     ]
    },
    {
     "name": "stderr",
     "output_type": "stream",
     "text": [
      "\r",
      " 34%|██████████████▍                           | 11/32 [01:22<02:37,  7.49s/it]"
     ]
    },
    {
     "name": "stdout",
     "output_type": "stream",
     "text": [
      "T     H        \n",
      "T     S     \n",
      "T     T          \n",
      "T    H    \n"
     ]
    },
    {
     "name": "stderr",
     "output_type": "stream",
     "text": [
      "\r",
      " 38%|███████████████▊                          | 12/32 [01:28<02:28,  7.40s/it]"
     ]
    },
    {
     "name": "stdout",
     "output_type": "stream",
     "text": [
      "T    W    \n",
      "T      T     \n",
      "T     B   I '   \n",
      "T    ADVENTURE     \n"
     ]
    },
    {
     "name": "stderr",
     "output_type": "stream",
     "text": [
      "\r",
      " 41%|█████████████████                         | 13/32 [01:35<02:19,  7.32s/it]"
     ]
    },
    {
     "name": "stdout",
     "output_type": "stream",
     "text": [
      "T   H I     \n",
      "T      A  '      \n",
      "T     A       \n",
      "T    A     \n"
     ]
    },
    {
     "name": "stderr",
     "output_type": "stream",
     "text": [
      "\r",
      " 44%|██████████████████▍                       | 14/32 [01:41<02:10,  7.24s/it]"
     ]
    },
    {
     "name": "stdout",
     "output_type": "stream",
     "text": [
      "T     I      \n",
      "T         G R         \n",
      "T    I    \n",
      "T    M        \n"
     ]
    },
    {
     "name": "stderr",
     "output_type": "stream",
     "text": [
      "\r",
      " 47%|███████████████████▋                      | 15/32 [01:50<02:05,  7.36s/it]"
     ]
    },
    {
     "name": "stdout",
     "output_type": "stream",
     "text": [
      "T     L '   S G\n",
      "T     I           \n",
      "T      F      \n",
      "T    W'      \n"
     ]
    },
    {
     "name": "stderr",
     "output_type": "stream",
     "text": [
      "\r",
      " 50%|█████████████████████                     | 16/32 [01:57<01:57,  7.37s/it]"
     ]
    },
    {
     "name": "stdout",
     "output_type": "stream",
     "text": [
      "T    I      \n",
      "T     T      \n",
      "T     I    \n",
      "T    L'    \n"
     ]
    },
    {
     "name": "stderr",
     "output_type": "stream",
     "text": [
      "\r",
      " 53%|██████████████████████▎                   | 17/32 [02:05<01:50,  7.36s/it]"
     ]
    },
    {
     "name": "stdout",
     "output_type": "stream",
     "text": [
      "T      I    \n",
      "T      T       \n",
      "T     A    B\n",
      "T    B     \n"
     ]
    },
    {
     "name": "stderr",
     "output_type": "stream",
     "text": [
      "\r",
      " 56%|███████████████████████▋                  | 18/32 [02:11<01:42,  7.30s/it]"
     ]
    },
    {
     "name": "stdout",
     "output_type": "stream",
     "text": [
      "T     E           \n",
      "T     T     \n",
      "T    I '    \n",
      "T     T      \n"
     ]
    },
    {
     "name": "stderr",
     "output_type": "stream",
     "text": [
      "\r",
      " 59%|████████████████████████▉                 | 19/32 [02:18<01:34,  7.28s/it]"
     ]
    },
    {
     "name": "stdout",
     "output_type": "stream",
     "text": [
      "T      F     \n",
      "T    F     \n",
      "T     I   L   \n",
      "T     T      \n"
     ]
    },
    {
     "name": "stderr",
     "output_type": "stream",
     "text": [
      "\r",
      " 62%|██████████████████████████▎               | 20/32 [02:24<01:26,  7.24s/it]"
     ]
    },
    {
     "name": "stdout",
     "output_type": "stream",
     "text": [
      "T     G P     \n",
      "T    K M   \n",
      "T    H    \n",
      "T     T    \n"
     ]
    },
    {
     "name": "stderr",
     "output_type": "stream",
     "text": [
      "\r",
      " 66%|███████████████████████████▌              | 21/32 [02:31<01:19,  7.20s/it]"
     ]
    },
    {
     "name": "stdout",
     "output_type": "stream",
     "text": [
      "T    T    \n",
      "T     S       A N\n",
      "T    T     \n",
      "T      S'    \n"
     ]
    },
    {
     "name": "stderr",
     "output_type": "stream",
     "text": [
      "\r",
      " 69%|████████████████████████████▉             | 22/32 [02:37<01:11,  7.16s/it]"
     ]
    },
    {
     "name": "stdout",
     "output_type": "stream",
     "text": [
      "T     T       O  F  O\n",
      "T   T    \n",
      "T    W      B    \n",
      "T   H     \n"
     ]
    },
    {
     "name": "stderr",
     "output_type": "stream",
     "text": [
      "\r",
      " 72%|██████████████████████████████▏           | 23/32 [02:45<01:04,  7.19s/it]"
     ]
    },
    {
     "name": "stdout",
     "output_type": "stream",
     "text": [
      "T     I     \n",
      "T    W    \n",
      "T     T         \n",
      "T     E    \n"
     ]
    },
    {
     "name": "stderr",
     "output_type": "stream",
     "text": [
      "\r",
      " 75%|███████████████████████████████▌          | 24/32 [02:51<00:57,  7.15s/it]"
     ]
    },
    {
     "name": "stdout",
     "output_type": "stream",
     "text": [
      "T      B C      \n",
      "T    D    \n",
      "T    H    \n",
      "T    T     \n"
     ]
    },
    {
     "name": "stderr",
     "output_type": "stream",
     "text": [
      "\r",
      " 78%|████████████████████████████████▊         | 25/32 [02:57<00:49,  7.09s/it]"
     ]
    },
    {
     "name": "stdout",
     "output_type": "stream",
     "text": [
      "T    M C    \n",
      "T     A   M U   \n",
      "T     I    I \n",
      "T     T FBI   \n"
     ]
    },
    {
     "name": "stderr",
     "output_type": "stream",
     "text": [
      "\r",
      " 81%|██████████████████████████████████▏       | 26/32 [03:03<00:42,  7.06s/it]"
     ]
    },
    {
     "name": "stdout",
     "output_type": "stream",
     "text": [
      "T    T       \n",
      "T     T     \n",
      "T     W      \n",
      "T    P     \n"
     ]
    },
    {
     "name": "stderr",
     "output_type": "stream",
     "text": [
      "\r",
      " 84%|███████████████████████████████████▍      | 27/32 [03:09<00:35,  7.03s/it]"
     ]
    },
    {
     "name": "stdout",
     "output_type": "stream",
     "text": [
      "T     T        E P\n",
      "T      T       \n",
      "T     T             \n",
      "T     T    \n"
     ]
    },
    {
     "name": "stderr",
     "output_type": "stream",
     "text": [
      "\r",
      " 88%|████████████████████████████████████▊     | 28/32 [03:17<00:28,  7.06s/it]"
     ]
    },
    {
     "name": "stdout",
     "output_type": "stream",
     "text": [
      "T     W        \n",
      "T    N     \n",
      "T      I    \n",
      "T      I        \n"
     ]
    },
    {
     "name": "stderr",
     "output_type": "stream",
     "text": [
      "\r",
      " 91%|██████████████████████████████████████    | 29/32 [03:24<00:21,  7.05s/it]"
     ]
    },
    {
     "name": "stdout",
     "output_type": "stream",
     "text": [
      "T     T'      \n",
      "T    H    \n",
      "T    D   \n",
      "T    A     \n"
     ]
    },
    {
     "name": "stderr",
     "output_type": "stream",
     "text": [
      "\r",
      " 94%|███████████████████████████████████████▍  | 30/32 [03:29<00:13,  6.99s/it]"
     ]
    },
    {
     "name": "stdout",
     "output_type": "stream",
     "text": [
      "T    T       \n",
      "T    Y'    \n",
      "T      C        \n",
      "T     I     \n"
     ]
    },
    {
     "name": "stderr",
     "output_type": "stream",
     "text": [
      "\r",
      " 97%|████████████████████████████████████████▋ | 31/32 [03:38<00:07,  7.06s/it]"
     ]
    },
    {
     "name": "stdout",
     "output_type": "stream",
     "text": [
      "T     A     \n",
      "T      T         \n"
     ]
    },
    {
     "name": "stderr",
     "output_type": "stream",
     "text": [
      "100%|██████████████████████████████████████████| 32/32 [03:42<00:00,  6.96s/it]\n"
     ]
    },
    {
     "name": "stdout",
     "output_type": "stream",
     "text": [
      "Validation Summary Epoch: [3]\tAverage WER 75.728\tAverage CER 16.166\t\n",
      "Learning rate annealed to: 0.000225\n",
      "Shuffling batches...\n",
      "Epoch: [4][1/95]\tTime 93.933 (72.559)\tData 15.336 (0.227)\tLoss 10.6427 (15.4487)\t\n",
      "Epoch: [4][2/95]\tTime 54.589 (72.496)\tData 0.042 (0.227)\tLoss 9.7537 (15.4287)\t\n",
      "Epoch: [4][3/95]\tTime 79.401 (72.520)\tData 0.016 (0.226)\tLoss 7.7445 (15.4018)\t\n",
      "Epoch: [4][4/95]\tTime 50.416 (72.444)\tData 0.000 (0.225)\tLoss 7.6969 (15.3750)\t\n",
      "Epoch: [4][5/95]\tTime 55.491 (72.385)\tData 0.031 (0.225)\tLoss 8.7311 (15.3519)\t\n",
      "Epoch: [4][6/95]\tTime 69.170 (72.374)\tData 0.000 (0.224)\tLoss 8.6211 (15.3286)\t\n",
      "Epoch: [4][7/95]\tTime 71.006 (72.370)\tData 0.016 (0.223)\tLoss 7.8681 (15.3028)\t\n",
      "Epoch: [4][8/95]\tTime 63.117 (72.338)\tData 0.016 (0.222)\tLoss 6.7993 (15.2736)\t\n",
      "Epoch: [4][9/95]\tTime 63.033 (72.307)\tData 0.000 (0.222)\tLoss 4.7661 (15.2376)\t\n",
      "Epoch: [4][10/95]\tTime 85.087 (72.350)\tData 0.000 (0.221)\tLoss 7.2806 (15.2104)\t\n",
      "Epoch: [4][11/95]\tTime 66.028 (72.328)\tData 0.016 (0.220)\tLoss 7.2122 (15.1832)\t\n",
      "Epoch: [4][12/95]\tTime 56.513 (72.275)\tData 0.016 (0.220)\tLoss 6.6919 (15.1543)\t\n",
      "Epoch: [4][13/95]\tTime 74.540 (72.283)\tData 0.000 (0.219)\tLoss 15.1009 (15.1542)\t\n",
      "Epoch: [4][14/95]\tTime 66.536 (72.264)\tData 0.016 (0.218)\tLoss 10.7484 (15.1393)\t\n",
      "Epoch: [4][15/95]\tTime 56.010 (72.209)\tData 0.000 (0.217)\tLoss 5.4585 (15.1068)\t\n",
      "Epoch: [4][16/95]\tTime 211.230 (72.671)\tData 0.016 (0.217)\tLoss 8.7794 (15.0856)\t\n",
      "Epoch: [4][17/95]\tTime 72.084 (72.669)\tData 0.344 (0.217)\tLoss 4.1887 (15.0493)\t\n",
      "Epoch: [4][18/95]\tTime 57.831 (72.620)\tData 0.016 (0.216)\tLoss 5.9440 (15.0190)\t\n",
      "Epoch: [4][19/95]\tTime 99.528 (72.709)\tData 0.016 (0.216)\tLoss 7.3212 (14.9935)\t\n",
      "Epoch: [4][20/95]\tTime 175.271 (73.045)\tData 0.047 (0.215)\tLoss 6.6650 (14.9660)\t\n",
      "Epoch: [4][21/95]\tTime 43.389 (72.948)\tData 0.303 (0.216)\tLoss 4.2932 (14.9572)\t\n",
      "Epoch: [4][22/95]\tTime 76.676 (72.960)\tData 0.000 (0.215)\tLoss 5.3296 (14.9255)\t\n",
      "Epoch: [4][23/95]\tTime 78.050 (72.977)\tData 0.016 (0.214)\tLoss 6.2832 (14.8972)\t\n",
      "Epoch: [4][24/95]\tTime 55.687 (72.921)\tData 0.016 (0.214)\tLoss 6.7785 (14.8706)\t\n",
      "Epoch: [4][25/95]\tTime 57.904 (72.873)\tData 0.000 (0.213)\tLoss 12.3897 (14.8626)\t\n",
      "Epoch: [4][26/95]\tTime 66.658 (72.853)\tData 0.000 (0.212)\tLoss 6.8899 (14.8367)\t\n",
      "Epoch: [4][27/95]\tTime 48.290 (72.774)\tData 0.016 (0.212)\tLoss 9.7898 (14.8203)\t\n",
      "Epoch: [4][28/95]\tTime 61.277 (72.737)\tData 0.000 (0.211)\tLoss 12.0414 (14.8114)\t\n",
      "Epoch: [4][29/95]\tTime 67.763 (72.721)\tData 0.000 (0.210)\tLoss 6.4003 (14.7843)\t\n",
      "Epoch: [4][30/95]\tTime 49.086 (72.646)\tData 0.078 (0.210)\tLoss 4.5177 (14.7514)\t\n",
      "Epoch: [4][31/95]\tTime 47.657 (72.567)\tData 0.016 (0.209)\tLoss 7.2320 (14.7274)\t\n",
      "Epoch: [4][32/95]\tTime 64.920 (72.543)\tData 0.000 (0.209)\tLoss 6.4688 (14.7011)\t\n",
      "Epoch: [4][33/95]\tTime 69.406 (72.533)\tData 0.016 (0.208)\tLoss 7.5982 (14.6785)\t\n",
      "Epoch: [4][34/95]\tTime 54.758 (72.477)\tData 0.000 (0.207)\tLoss 6.0555 (14.6513)\t\n",
      "Epoch: [4][35/95]\tTime 53.020 (72.417)\tData 0.000 (0.207)\tLoss 6.8896 (14.6268)\t\n",
      "Epoch: [4][36/95]\tTime 46.232 (72.335)\tData 0.000 (0.206)\tLoss 10.4690 (14.6137)\t\n",
      "Epoch: [4][37/95]\tTime 251.396 (72.891)\tData 0.016 (0.205)\tLoss 9.1054 (14.5964)\t\n",
      "Epoch: [4][38/95]\tTime 105.999 (72.994)\tData 0.297 (0.206)\tLoss 7.9145 (14.5756)\t\n",
      "Epoch: [4][39/95]\tTime 191.191 (73.358)\tData 0.000 (0.205)\tLoss 12.1300 (14.5679)\t\n",
      "Epoch: [4][40/95]\tTime 108.536 (73.467)\tData 0.891 (0.207)\tLoss 9.0306 (14.5507)\t\n",
      "Epoch: [4][41/95]\tTime 61.117 (73.429)\tData 0.016 (0.207)\tLoss 12.4530 (14.5442)\t\n",
      "Epoch: [4][42/95]\tTime 58.751 (73.384)\tData 0.016 (0.206)\tLoss 3.9736 (14.5116)\t\n",
      "Epoch: [4][43/95]\tTime 62.874 (73.352)\tData 0.016 (0.205)\tLoss 10.7979 (14.5002)\t\n",
      "Epoch: [4][44/95]\tTime 46.255 (73.269)\tData 0.000 (0.205)\tLoss 12.5194 (14.4941)\t\n",
      "Epoch: [4][45/95]\tTime 119.094 (73.408)\tData 0.000 (0.204)\tLoss 7.8858 (14.4739)\t\n",
      "Epoch: [4][46/95]\tTime 69.526 (73.397)\tData 0.250 (0.204)\tLoss 13.3565 (14.4705)\t\n",
      "Epoch: [4][47/95]\tTime 55.129 (73.342)\tData 0.000 (0.204)\tLoss 11.2538 (14.4607)\t\n",
      "Epoch: [4][48/95]\tTime 46.013 (73.260)\tData 0.000 (0.203)\tLoss 8.1775 (14.4417)\t\n",
      "Epoch: [4][49/95]\tTime 56.122 (73.208)\tData 0.000 (0.202)\tLoss 6.9910 (14.4192)\t\n",
      "Epoch: [4][50/95]\tTime 54.651 (73.153)\tData 0.000 (0.202)\tLoss 7.6553 (14.3988)\t\n",
      "Epoch: [4][51/95]\tTime 52.622 (73.092)\tData 0.016 (0.201)\tLoss 8.1570 (14.3801)\t\n",
      "Epoch: [4][52/95]\tTime 112.428 (73.208)\tData 0.000 (0.201)\tLoss 8.6647 (14.3629)\t\n",
      "Epoch: [4][53/95]\tTime 138.186 (73.401)\tData 0.594 (0.202)\tLoss 5.9146 (14.3377)\t\n",
      "Epoch: [4][54/95]\tTime 79.829 (73.420)\tData 0.271 (0.202)\tLoss 10.1423 (14.3252)\t\n",
      "Epoch: [4][55/95]\tTime 53.862 (73.362)\tData 0.016 (0.202)\tLoss 6.2811 (14.3014)\t\n",
      "Epoch: [4][56/95]\tTime 87.245 (73.403)\tData 0.000 (0.201)\tLoss 8.4448 (14.2840)\t\n",
      "Epoch: [4][57/95]\tTime 69.357 (73.391)\tData 0.016 (0.200)\tLoss 9.7193 (14.2706)\t\n",
      "Epoch: [4][58/95]\tTime 65.315 (73.367)\tData 0.000 (0.200)\tLoss 7.8478 (14.2517)\t\n",
      "Epoch: [4][59/95]\tTime 64.896 (73.343)\tData 0.016 (0.199)\tLoss 6.4502 (14.2288)\t\n",
      "Epoch: [4][60/95]\tTime 51.284 (73.279)\tData 0.000 (0.199)\tLoss 41.8602 (14.3096)\t\n",
      "Epoch: [4][61/95]\tTime 41.899 (73.188)\tData 0.000 (0.198)\tLoss 6.6545 (14.2873)\t\n",
      "Epoch: [4][62/95]\tTime 52.325 (73.128)\tData 0.016 (0.198)\tLoss 8.1078 (14.2693)\t\n",
      "Epoch: [4][63/95]\tTime 62.297 (73.097)\tData 0.016 (0.197)\tLoss 13.8816 (14.2682)\t\n",
      "Epoch: [4][64/95]\tTime 56.526 (73.049)\tData 0.016 (0.197)\tLoss 7.1382 (14.2476)\t\n",
      "Epoch: [4][65/95]\tTime 70.621 (73.043)\tData 0.016 (0.196)\tLoss 5.5076 (14.2224)\t\n",
      "Epoch: [4][66/95]\tTime 118.195 (73.171)\tData 0.016 (0.196)\tLoss 5.6956 (14.1979)\t\n",
      "Epoch: [4][67/95]\tTime 86.006 (73.208)\tData 0.266 (0.196)\tLoss 8.0771 (14.1804)\t\n",
      "Epoch: [4][68/95]\tTime 57.163 (73.162)\tData 0.016 (0.195)\tLoss 5.3489 (14.1551)\t\n",
      "Epoch: [4][69/95]\tTime 90.241 (73.210)\tData 0.000 (0.195)\tLoss 8.0529 (14.1377)\t\n",
      "Epoch: [4][70/95]\tTime 56.387 (73.163)\tData 0.031 (0.194)\tLoss 5.2871 (14.1126)\t\n",
      "Epoch: [4][71/95]\tTime 44.241 (73.082)\tData 0.000 (0.194)\tLoss 5.2211 (14.0874)\t\n",
      "Epoch: [4][72/95]\tTime 54.335 (73.029)\tData 0.000 (0.193)\tLoss 6.6374 (14.0664)\t\n",
      "Epoch: [4][73/95]\tTime 69.947 (73.021)\tData 0.000 (0.193)\tLoss 3.9958 (14.0380)\t\n",
      "Epoch: [4][74/95]\tTime 49.189 (72.954)\tData 0.000 (0.192)\tLoss 6.1047 (14.0157)\t\n",
      "Epoch: [4][75/95]\tTime 143.520 (73.150)\tData 0.000 (0.191)\tLoss 6.1074 (13.9936)\t\n",
      "Epoch: [4][76/95]\tTime 83.922 (73.180)\tData 0.237 (0.192)\tLoss 5.3968 (13.9695)\t\n",
      "Epoch: [4][77/95]\tTime 51.199 (73.119)\tData 0.016 (0.191)\tLoss 12.9746 (13.9668)\t\n",
      "Epoch: [4][78/95]\tTime 62.620 (73.091)\tData 0.000 (0.191)\tLoss 14.0338 (13.9670)\t\n",
      "Epoch: [4][79/95]\tTime 48.972 (73.024)\tData 0.000 (0.190)\tLoss 5.7038 (13.9441)\t\n",
      "Epoch: [4][80/95]\tTime 68.537 (73.012)\tData 0.000 (0.190)\tLoss 5.5214 (13.9208)\t\n",
      "Epoch: [4][81/95]\tTime 47.853 (72.943)\tData 0.000 (0.189)\tLoss 5.9270 (13.8988)\t\n",
      "Epoch: [4][82/95]\tTime 43.360 (72.863)\tData 0.000 (0.189)\tLoss 5.9141 (13.8768)\t\n",
      "Epoch: [4][83/95]\tTime 65.876 (72.844)\tData 0.000 (0.188)\tLoss 6.0856 (13.8555)\t\n",
      "Epoch: [4][84/95]\tTime 60.513 (72.810)\tData 0.078 (0.188)\tLoss 8.3682 (13.8405)\t\n",
      "Epoch: [4][85/95]\tTime 58.486 (72.771)\tData 0.031 (0.187)\tLoss 9.0053 (13.8273)\t\n",
      "Epoch: [4][86/95]\tTime 57.878 (72.731)\tData 0.016 (0.187)\tLoss 3.7554 (13.8000)\t\n",
      "Epoch: [4][87/95]\tTime 46.948 (72.662)\tData 0.000 (0.186)\tLoss 5.4935 (13.7775)\t\n",
      "Epoch: [4][88/95]\tTime 138.367 (72.838)\tData 0.016 (0.186)\tLoss 6.5549 (13.7579)\t\n",
      "Epoch: [4][89/95]\tTime 89.208 (72.882)\tData 1.078 (0.188)\tLoss 3.5542 (13.7304)\t\n",
      "Epoch: [4][90/95]\tTime 54.181 (72.832)\tData 0.000 (0.188)\tLoss 9.9887 (13.7204)\t\n",
      "Epoch: [4][91/95]\tTime 44.280 (72.756)\tData 0.016 (0.187)\tLoss 8.6575 (13.7068)\t\n",
      "Epoch: [4][92/95]\tTime 48.302 (72.691)\tData 0.000 (0.187)\tLoss 12.4627 (13.7035)\t\n",
      "Epoch: [4][93/95]\tTime 68.547 (72.680)\tData 0.000 (0.186)\tLoss 6.7973 (13.6851)\t\n",
      "Epoch: [4][94/95]\tTime 41.893 (72.599)\tData 0.000 (0.186)\tLoss 9.3220 (13.6735)\t\n",
      "Epoch: [4][95/95]\tTime 75.211 (72.606)\tData 0.016 (0.185)\tLoss 5.2087 (13.6510)\t\n",
      "Training Summary Epoch: [4]\tTime taken (s): 6932\tAverage Loss 8.176\t\n"
     ]
    },
    {
     "name": "stderr",
     "output_type": "stream",
     "text": [
      "\r",
      "  0%|                                                   | 0/32 [00:00<?, ?it/s]"
     ]
    },
    {
     "name": "stdout",
     "output_type": "stream",
     "text": [
      "T    D I    \n",
      "T    H    \n",
      "T     T     \n",
      "T    D I     \n"
     ]
    },
    {
     "name": "stderr",
     "output_type": "stream",
     "text": [
      "\r",
      "  3%|█▎                                         | 1/32 [00:11<06:02, 11.68s/it]"
     ]
    },
    {
     "name": "stdout",
     "output_type": "stream",
     "text": [
      "T    H    \n",
      "T    J    S\n",
      "T   H     \n",
      "T    E    \n"
     ]
    },
    {
     "name": "stderr",
     "output_type": "stream",
     "text": [
      "\r",
      "  6%|██▋                                        | 2/32 [00:17<04:16,  8.55s/it]"
     ]
    },
    {
     "name": "stdout",
     "output_type": "stream",
     "text": [
      "T    T     \n",
      "T    Y      C\n",
      "T     T F    \n",
      "T     T    \n"
     ]
    },
    {
     "name": "stderr",
     "output_type": "stream",
     "text": [
      "\r",
      "  9%|████                                       | 3/32 [00:23<03:42,  7.67s/it]"
     ]
    },
    {
     "name": "stdout",
     "output_type": "stream",
     "text": [
      "T     I     \n",
      "T     I    F  \n",
      "T    W    \n",
      "T      A       \n"
     ]
    },
    {
     "name": "stderr",
     "output_type": "stream",
     "text": [
      "\r",
      " 12%|█████▍                                     | 4/32 [00:30<03:30,  7.52s/it]"
     ]
    },
    {
     "name": "stdout",
     "output_type": "stream",
     "text": [
      "T      T      \n",
      "T     O       \n",
      "T     I       \n",
      "T      W      M D \n"
     ]
    },
    {
     "name": "stderr",
     "output_type": "stream",
     "text": [
      "\r",
      " 16%|██████▋                                    | 5/32 [00:39<03:32,  7.88s/it]"
     ]
    },
    {
     "name": "stdout",
     "output_type": "stream",
     "text": [
      "T      P     \n",
      "T    T    \n",
      "T     F      \n",
      "T      W       \n"
     ]
    },
    {
     "name": "stderr",
     "output_type": "stream",
     "text": [
      "\r",
      " 19%|████████                                   | 6/32 [00:49<03:34,  8.25s/it]"
     ]
    },
    {
     "name": "stdout",
     "output_type": "stream",
     "text": [
      "T     M     F' \n",
      "T    T    \n",
      "T   D   \n",
      "T      C  U   \n"
     ]
    },
    {
     "name": "stderr",
     "output_type": "stream",
     "text": [
      "\r",
      " 22%|█████████▍                                 | 7/32 [00:56<03:21,  8.05s/it]"
     ]
    },
    {
     "name": "stdout",
     "output_type": "stream",
     "text": [
      "T    S    \n",
      "T      E    \n",
      "T    T     \n",
      "T    T     \n"
     ]
    },
    {
     "name": "stderr",
     "output_type": "stream",
     "text": [
      "\r",
      " 25%|██████████▊                                | 8/32 [01:02<03:07,  7.83s/it]"
     ]
    },
    {
     "name": "stdout",
     "output_type": "stream",
     "text": [
      "T   I    \n",
      "T    A   \n",
      "T      B        \n",
      "T    W       \n"
     ]
    },
    {
     "name": "stderr",
     "output_type": "stream",
     "text": [
      "\r",
      " 28%|████████████                               | 9/32 [01:08<02:56,  7.66s/it]"
     ]
    },
    {
     "name": "stdout",
     "output_type": "stream",
     "text": [
      "T   I    \n",
      "T          \n",
      "T      I       \n",
      "T       M MN    \n"
     ]
    },
    {
     "name": "stderr",
     "output_type": "stream",
     "text": [
      "\r",
      " 31%|█████████████▏                            | 10/32 [01:15<02:45,  7.52s/it]"
     ]
    },
    {
     "name": "stdout",
     "output_type": "stream",
     "text": [
      "T      S     E  W\n",
      "T       C           \n",
      "T    T     \n",
      "T    E  '  \n"
     ]
    },
    {
     "name": "stderr",
     "output_type": "stream",
     "text": [
      "\r",
      " 34%|██████████████▍                           | 11/32 [01:24<02:41,  7.68s/it]"
     ]
    },
    {
     "name": "stdout",
     "output_type": "stream",
     "text": [
      "T      H        \n",
      "T    S     \n",
      "T       T          \n",
      "T    H    \n"
     ]
    },
    {
     "name": "stderr",
     "output_type": "stream",
     "text": [
      "\r",
      " 38%|███████████████▊                          | 12/32 [01:31<02:32,  7.60s/it]"
     ]
    },
    {
     "name": "stdout",
     "output_type": "stream",
     "text": [
      "T    W    \n",
      "T     T     \n",
      "T     B   I '   \n",
      "T    ADVENTURE     \n"
     ]
    },
    {
     "name": "stderr",
     "output_type": "stream",
     "text": [
      "\r",
      " 41%|█████████████████                         | 13/32 [01:37<02:22,  7.52s/it]"
     ]
    },
    {
     "name": "stdout",
     "output_type": "stream",
     "text": [
      "T   H I     \n",
      "T      A  '      \n",
      "T     A       \n",
      "T    A     \n"
     ]
    },
    {
     "name": "stderr",
     "output_type": "stream",
     "text": [
      "\r",
      " 44%|██████████████████▍                       | 14/32 [01:43<02:13,  7.42s/it]"
     ]
    },
    {
     "name": "stdout",
     "output_type": "stream",
     "text": [
      "T    I      \n",
      "T          G R         \n",
      "T    I    \n",
      "T     M        \n"
     ]
    },
    {
     "name": "stderr",
     "output_type": "stream",
     "text": [
      "\r",
      " 47%|███████████████████▋                      | 15/32 [01:53<02:08,  7.57s/it]"
     ]
    },
    {
     "name": "stdout",
     "output_type": "stream",
     "text": [
      "T     L '   S G\n",
      "T      I           \n",
      "T      F      \n",
      "T     W'      \n"
     ]
    },
    {
     "name": "stderr",
     "output_type": "stream",
     "text": [
      "\r",
      " 50%|█████████████████████                     | 16/32 [02:01<02:01,  7.58s/it]"
     ]
    },
    {
     "name": "stdout",
     "output_type": "stream",
     "text": [
      "T     I      \n",
      "T     T      \n",
      "T    I    \n",
      "T    L'    \n"
     ]
    },
    {
     "name": "stderr",
     "output_type": "stream",
     "text": [
      "\r",
      " 53%|██████████████████████▎                   | 17/32 [02:08<01:53,  7.58s/it]"
     ]
    },
    {
     "name": "stdout",
     "output_type": "stream",
     "text": [
      "T      I    \n",
      "T      T       \n",
      "T      A    B\n",
      "T    B     \n"
     ]
    },
    {
     "name": "stderr",
     "output_type": "stream",
     "text": [
      "\r",
      " 56%|███████████████████████▋                  | 18/32 [02:15<01:45,  7.51s/it]"
     ]
    },
    {
     "name": "stdout",
     "output_type": "stream",
     "text": [
      "T      E           \n",
      "T     T     \n",
      "T    I '    \n",
      "T     T      \n"
     ]
    },
    {
     "name": "stderr",
     "output_type": "stream",
     "text": [
      "\r",
      " 59%|████████████████████████▉                 | 19/32 [02:22<01:37,  7.49s/it]"
     ]
    },
    {
     "name": "stdout",
     "output_type": "stream",
     "text": [
      "T      F     \n",
      "T      F     \n",
      "T    I   L   \n",
      "T     T      \n"
     ]
    },
    {
     "name": "stderr",
     "output_type": "stream",
     "text": [
      "\r",
      " 62%|██████████████████████████▎               | 20/32 [02:28<01:29,  7.44s/it]"
     ]
    },
    {
     "name": "stdout",
     "output_type": "stream",
     "text": [
      "T     G P     \n",
      "T    K M   \n",
      "T    H    \n",
      "T    T    \n"
     ]
    },
    {
     "name": "stderr",
     "output_type": "stream",
     "text": [
      "\r",
      " 66%|███████████████████████████▌              | 21/32 [02:35<01:21,  7.39s/it]"
     ]
    },
    {
     "name": "stdout",
     "output_type": "stream",
     "text": [
      "T    T    \n",
      "T        S       A N\n",
      "T     T     \n",
      "T     S'    \n"
     ]
    },
    {
     "name": "stderr",
     "output_type": "stream",
     "text": [
      "\r",
      " 69%|████████████████████████████▉             | 22/32 [02:41<01:13,  7.34s/it]"
     ]
    },
    {
     "name": "stdout",
     "output_type": "stream",
     "text": [
      "T     T       O  F  O\n",
      "T   T    \n",
      "T     W      B    \n",
      "T     H     \n"
     ]
    },
    {
     "name": "stderr",
     "output_type": "stream",
     "text": [
      "\r",
      " 72%|██████████████████████████████▏           | 23/32 [02:49<01:06,  7.39s/it]"
     ]
    },
    {
     "name": "stdout",
     "output_type": "stream",
     "text": [
      "T     I     \n",
      "T   W    \n",
      "T    T         \n",
      "T    E    \n"
     ]
    },
    {
     "name": "stderr",
     "output_type": "stream",
     "text": [
      "\r",
      " 75%|███████████████████████████████▌          | 24/32 [02:56<00:58,  7.34s/it]"
     ]
    },
    {
     "name": "stdout",
     "output_type": "stream",
     "text": [
      "T     B C      \n",
      "T    D    \n",
      "T    H    \n",
      "T     T     \n"
     ]
    },
    {
     "name": "stderr",
     "output_type": "stream",
     "text": [
      "\r",
      " 78%|████████████████████████████████▊         | 25/32 [03:02<00:51,  7.29s/it]"
     ]
    },
    {
     "name": "stdout",
     "output_type": "stream",
     "text": [
      "T      M C    \n",
      "T     A   M U   \n",
      "T    I    I \n",
      "T    T FBI   \n"
     ]
    },
    {
     "name": "stderr",
     "output_type": "stream",
     "text": [
      "\r",
      " 81%|██████████████████████████████████▏       | 26/32 [03:08<00:43,  7.25s/it]"
     ]
    },
    {
     "name": "stdout",
     "output_type": "stream",
     "text": [
      "T     T       \n",
      "T    T     \n",
      "T    W      \n",
      "T     P     \n"
     ]
    },
    {
     "name": "stderr",
     "output_type": "stream",
     "text": [
      "\r",
      " 84%|███████████████████████████████████▍      | 27/32 [03:14<00:36,  7.21s/it]"
     ]
    },
    {
     "name": "stdout",
     "output_type": "stream",
     "text": [
      "T     T        E P\n",
      "T      T       \n",
      "T     T             \n",
      "T    T    \n"
     ]
    },
    {
     "name": "stderr",
     "output_type": "stream",
     "text": [
      "\r",
      " 88%|████████████████████████████████████▊     | 28/32 [03:22<00:28,  7.24s/it]"
     ]
    },
    {
     "name": "stdout",
     "output_type": "stream",
     "text": [
      "T       W        \n",
      "T   N     \n",
      "T    I    \n",
      "T       I        \n"
     ]
    },
    {
     "name": "stderr",
     "output_type": "stream",
     "text": [
      "\r",
      " 91%|██████████████████████████████████████    | 29/32 [03:29<00:21,  7.24s/it]"
     ]
    },
    {
     "name": "stdout",
     "output_type": "stream",
     "text": [
      "T    T'      \n",
      "T    H    \n",
      "T    D   \n",
      "T    A     \n"
     ]
    },
    {
     "name": "stderr",
     "output_type": "stream",
     "text": [
      "\r",
      " 94%|███████████████████████████████████████▍  | 30/32 [03:34<00:14,  7.17s/it]"
     ]
    },
    {
     "name": "stdout",
     "output_type": "stream",
     "text": [
      "T    T       \n",
      "T    Y'    \n",
      "T       C        \n",
      "T     I     \n"
     ]
    },
    {
     "name": "stderr",
     "output_type": "stream",
     "text": [
      "\r",
      " 97%|████████████████████████████████████████▋ | 31/32 [03:44<00:07,  7.23s/it]"
     ]
    },
    {
     "name": "stdout",
     "output_type": "stream",
     "text": [
      "T      A     \n",
      "T      T         \n"
     ]
    },
    {
     "name": "stderr",
     "output_type": "stream",
     "text": [
      "100%|██████████████████████████████████████████| 32/32 [03:48<00:00,  7.13s/it]\n"
     ]
    },
    {
     "name": "stdout",
     "output_type": "stream",
     "text": [
      "Validation Summary Epoch: [4]\tAverage WER 75.728\tAverage CER 16.166\t\n",
      "Learning rate annealed to: 0.000205\n",
      "Shuffling batches...\n",
      "Epoch: [5][1/95]\tTime 79.506 (72.624)\tData 15.132 (0.225)\tLoss 8.2703 (13.6368)\t\n",
      "Epoch: [5][2/95]\tTime 48.628 (72.561)\tData 0.000 (0.224)\tLoss 11.0378 (13.6299)\t\n",
      "Epoch: [5][3/95]\tTime 49.841 (72.502)\tData 0.016 (0.223)\tLoss 10.0151 (13.6204)\t\n",
      "Epoch: [5][4/95]\tTime 50.249 (72.444)\tData 0.016 (0.223)\tLoss 5.6490 (13.5995)\t\n",
      "Epoch: [5][5/95]\tTime 63.217 (72.420)\tData 0.016 (0.222)\tLoss 7.5286 (13.5836)\t\n",
      "Epoch: [5][6/95]\tTime 68.458 (72.410)\tData 0.000 (0.222)\tLoss 5.1336 (13.5615)\t\n",
      "Epoch: [5][7/95]\tTime 91.572 (72.459)\tData 0.000 (0.221)\tLoss 9.1718 (13.5501)\t\n",
      "Epoch: [5][8/95]\tTime 53.161 (72.410)\tData 0.000 (0.221)\tLoss 6.0787 (13.5307)\t\n",
      "Epoch: [5][9/95]\tTime 40.457 (72.327)\tData 0.031 (0.220)\tLoss 8.8250 (13.5185)\t\n",
      "Epoch: [5][10/95]\tTime 53.041 (72.278)\tData 0.016 (0.220)\tLoss 6.7591 (13.5010)\t\n",
      "Epoch: [5][11/95]\tTime 44.702 (72.207)\tData 0.000 (0.219)\tLoss 5.1193 (13.4794)\t\n",
      "Epoch: [5][12/95]\tTime 47.730 (72.145)\tData 0.000 (0.219)\tLoss 6.6036 (13.4617)\t\n",
      "Epoch: [5][13/95]\tTime 44.079 (72.074)\tData 0.000 (0.218)\tLoss 5.4243 (13.4411)\t\n",
      "Epoch: [5][14/95]\tTime 57.005 (72.035)\tData 0.016 (0.217)\tLoss 9.0737 (13.4300)\t\n",
      "Epoch: [5][15/95]\tTime 43.897 (71.964)\tData 0.000 (0.217)\tLoss 5.9923 (13.4110)\t\n",
      "Epoch: [5][16/95]\tTime 193.174 (72.270)\tData 0.000 (0.216)\tLoss 9.1614 (13.4002)\t\n",
      "Epoch: [5][17/95]\tTime 85.636 (72.304)\tData 0.094 (0.216)\tLoss 9.8114 (13.3911)\t\n",
      "Epoch: [5][18/95]\tTime 57.075 (72.266)\tData 0.000 (0.216)\tLoss 6.5179 (13.3737)\t\n",
      "Epoch: [5][19/95]\tTime 71.373 (72.263)\tData 0.016 (0.215)\tLoss 4.5461 (13.3514)\t\n",
      "Epoch: [5][20/95]\tTime 90.630 (72.309)\tData 0.000 (0.214)\tLoss 6.5355 (13.3342)\t\n",
      "Epoch: [5][21/95]\tTime 97.079 (72.371)\tData 0.000 (0.214)\tLoss 8.6102 (13.3223)\t\n",
      "Epoch: [5][22/95]\tTime 66.623 (72.357)\tData 0.047 (0.214)\tLoss 4.6841 (13.3007)\t\n",
      "Epoch: [5][23/95]\tTime 43.621 (72.285)\tData 0.000 (0.213)\tLoss 6.4790 (13.2836)\t\n",
      "Epoch: [5][24/95]\tTime 53.978 (72.240)\tData 0.000 (0.212)\tLoss 5.8118 (13.2650)\t\n",
      "Epoch: [5][25/95]\tTime 55.974 (72.200)\tData 0.016 (0.212)\tLoss 5.5932 (13.2459)\t\n",
      "Epoch: [5][26/95]\tTime 121.031 (72.320)\tData 0.016 (0.211)\tLoss 6.0696 (13.2281)\t\n",
      "Epoch: [5][27/95]\tTime 89.821 (72.363)\tData 0.250 (0.212)\tLoss 9.5275 (13.2190)\t\n",
      "Epoch: [5][28/95]\tTime 59.808 (72.332)\tData 0.016 (0.211)\tLoss 6.2044 (13.2016)\t\n",
      "Epoch: [5][29/95]\tTime 82.150 (72.356)\tData 0.016 (0.211)\tLoss 5.4316 (13.1825)\t\n",
      "Epoch: [5][30/95]\tTime 66.859 (72.343)\tData 0.016 (0.210)\tLoss 10.1954 (13.1752)\t\n",
      "Epoch: [5][31/95]\tTime 80.687 (72.363)\tData 0.016 (0.210)\tLoss 4.9457 (13.1550)\t\n",
      "Epoch: [5][32/95]\tTime 85.006 (72.394)\tData 0.000 (0.209)\tLoss 15.5320 (13.1608)\t\n",
      "Epoch: [5][33/95]\tTime 71.964 (72.393)\tData 0.016 (0.209)\tLoss 12.7909 (13.1599)\t\n",
      "Epoch: [5][34/95]\tTime 86.534 (72.427)\tData 0.000 (0.208)\tLoss 5.2209 (13.1406)\t\n",
      "Epoch: [5][35/95]\tTime 67.658 (72.416)\tData 0.000 (0.208)\tLoss 4.5844 (13.1198)\t\n",
      "Epoch: [5][36/95]\tTime 47.174 (72.355)\tData 0.043 (0.207)\tLoss 6.1007 (13.1028)\t\n",
      "Epoch: [5][37/95]\tTime 58.039 (72.321)\tData 0.000 (0.207)\tLoss 9.2263 (13.0934)\t\n",
      "Epoch: [5][38/95]\tTime 70.603 (72.317)\tData 0.000 (0.206)\tLoss 5.6772 (13.0756)\t\n",
      "Epoch: [5][39/95]\tTime 52.861 (72.270)\tData 0.016 (0.206)\tLoss 7.3935 (13.0619)\t\n",
      "Epoch: [5][40/95]\tTime 68.509 (72.261)\tData 0.016 (0.205)\tLoss 8.7335 (13.0515)\t\n",
      "Epoch: [5][41/95]\tTime 56.737 (72.224)\tData 0.000 (0.205)\tLoss 9.1948 (13.0423)\t\n",
      "Epoch: [5][42/95]\tTime 58.826 (72.193)\tData 0.016 (0.204)\tLoss 3.8742 (13.0204)\t\n",
      "Epoch: [5][43/95]\tTime 210.971 (72.521)\tData 0.016 (0.204)\tLoss 11.7573 (13.0174)\t\n",
      "Epoch: [5][44/95]\tTime 66.297 (72.506)\tData 0.288 (0.204)\tLoss 5.0688 (12.9985)\t\n",
      "Epoch: [5][45/95]\tTime 104.774 (72.582)\tData 0.017 (0.204)\tLoss 10.5098 (12.9926)\t\n",
      "Epoch: [5][46/95]\tTime 62.835 (72.559)\tData 0.165 (0.204)\tLoss 4.7969 (12.9733)\t\n",
      "Epoch: [5][47/95]\tTime 289.789 (73.068)\tData 0.141 (0.204)\tLoss 7.4585 (12.9603)\t\n",
      "Epoch: [5][48/95]\tTime 115.392 (73.167)\tData 0.328 (0.204)\tLoss 6.6400 (12.9454)\t\n",
      "Epoch: [5][49/95]\tTime 63.504 (73.144)\tData 0.016 (0.203)\tLoss 5.3556 (12.9276)\t\n",
      "Epoch: [5][50/95]\tTime 55.730 (73.104)\tData 0.016 (0.203)\tLoss 6.9925 (12.9137)\t\n",
      "Epoch: [5][51/95]\tTime 59.923 (73.073)\tData 0.016 (0.203)\tLoss 10.7942 (12.9087)\t\n",
      "Epoch: [5][52/95]\tTime 58.957 (73.040)\tData 0.016 (0.202)\tLoss 8.3176 (12.8980)\t\n",
      "Epoch: [5][53/95]\tTime 134.186 (73.182)\tData 0.016 (0.202)\tLoss 7.9652 (12.8866)\t\n",
      "Epoch: [5][54/95]\tTime 69.240 (73.172)\tData 0.500 (0.202)\tLoss 4.5316 (12.8672)\t\n",
      "Epoch: [5][55/95]\tTime 151.405 (73.352)\tData 0.016 (0.202)\tLoss 5.8385 (12.8509)\t\n",
      "Epoch: [5][56/95]\tTime 107.133 (73.430)\tData 0.280 (0.202)\tLoss 7.4156 (12.8383)\t\n",
      "Epoch: [5][57/95]\tTime 61.728 (73.403)\tData 0.016 (0.202)\tLoss 13.6857 (12.8403)\t\n",
      "Epoch: [5][58/95]\tTime 60.826 (73.374)\tData 0.000 (0.201)\tLoss 11.9274 (12.8382)\t\n",
      "Epoch: [5][59/95]\tTime 61.396 (73.347)\tData 0.016 (0.201)\tLoss 7.2959 (12.8255)\t\n",
      "Epoch: [5][60/95]\tTime 46.315 (73.286)\tData 0.016 (0.200)\tLoss 10.4309 (12.8200)\t\n",
      "Epoch: [5][61/95]\tTime 79.059 (73.299)\tData 0.000 (0.200)\tLoss 7.3345 (12.8075)\t\n",
      "Epoch: [5][62/95]\tTime 76.771 (73.306)\tData 0.000 (0.199)\tLoss 6.1125 (12.7922)\t\n",
      "Epoch: [5][63/95]\tTime 67.127 (73.293)\tData 0.016 (0.199)\tLoss 6.2824 (12.7774)\t\n",
      "Epoch: [5][64/95]\tTime 53.311 (73.248)\tData 0.000 (0.199)\tLoss 7.5737 (12.7656)\t\n",
      "Epoch: [5][65/95]\tTime 64.247 (73.227)\tData 0.000 (0.198)\tLoss 4.7922 (12.7476)\t\n",
      "Epoch: [5][66/95]\tTime 46.877 (73.168)\tData 0.006 (0.198)\tLoss 7.1850 (12.7350)\t\n",
      "Epoch: [5][67/95]\tTime 55.591 (73.129)\tData 0.016 (0.197)\tLoss 11.9399 (12.7333)\t\n",
      "Epoch: [5][68/95]\tTime 45.341 (73.067)\tData 0.016 (0.197)\tLoss 7.8368 (12.7222)\t\n",
      "Epoch: [5][69/95]\tTime 123.506 (73.179)\tData 0.016 (0.196)\tLoss 3.5701 (12.7017)\t\n",
      "Epoch: [5][70/95]\tTime 75.160 (73.184)\tData 0.269 (0.197)\tLoss 6.4719 (12.6878)\t\n",
      "Epoch: [5][71/95]\tTime 74.865 (73.187)\tData 0.016 (0.196)\tLoss 5.9870 (12.6728)\t\n",
      "Epoch: [5][72/95]\tTime 74.212 (73.190)\tData 0.016 (0.196)\tLoss 7.0892 (12.6604)\t\n",
      "Epoch: [5][73/95]\tTime 35.130 (73.106)\tData 0.016 (0.195)\tLoss 5.3064 (12.6563)\t\n",
      "Epoch: [5][74/95]\tTime 44.878 (73.043)\tData 0.016 (0.195)\tLoss 13.5106 (12.6582)\t\n",
      "Epoch: [5][75/95]\tTime 48.124 (72.989)\tData 0.016 (0.195)\tLoss 9.4265 (12.6510)\t\n",
      "Epoch: [5][76/95]\tTime 64.017 (72.969)\tData 0.022 (0.194)\tLoss 7.1248 (12.6388)\t\n",
      "Epoch: [5][77/95]\tTime 58.403 (72.937)\tData 0.000 (0.194)\tLoss 9.8121 (12.6326)\t\n",
      "Epoch: [5][78/95]\tTime 168.958 (73.147)\tData 0.016 (0.193)\tLoss 5.2938 (12.6164)\t\n",
      "Epoch: [5][79/95]\tTime 68.135 (73.136)\tData 0.310 (0.194)\tLoss 12.4185 (12.6160)\t\n",
      "Epoch: [5][80/95]\tTime 52.855 (73.092)\tData 0.011 (0.193)\tLoss 6.8056 (12.6033)\t\n",
      "Epoch: [5][81/95]\tTime 66.821 (73.078)\tData 0.000 (0.193)\tLoss 6.3325 (12.5895)\t\n",
      "Epoch: [5][82/95]\tTime 75.186 (73.083)\tData 0.000 (0.192)\tLoss 3.9523 (12.5707)\t\n",
      "Epoch: [5][83/95]\tTime 54.595 (73.043)\tData 0.016 (0.192)\tLoss 6.2962 (12.5570)\t\n",
      "Epoch: [5][84/95]\tTime 68.257 (73.032)\tData 0.000 (0.192)\tLoss 7.6062 (12.5463)\t\n",
      "Epoch: [5][85/95]\tTime 66.529 (73.018)\tData 0.016 (0.191)\tLoss 7.2686 (12.5348)\t\n",
      "Epoch: [5][86/95]\tTime 67.215 (73.006)\tData 0.016 (0.191)\tLoss 8.4818 (12.5261)\t\n",
      "Epoch: [5][87/95]\tTime 58.731 (72.975)\tData 0.016 (0.191)\tLoss 6.2041 (12.5124)\t\n",
      "Epoch: [5][88/95]\tTime 46.775 (72.919)\tData 0.000 (0.190)\tLoss 4.8804 (12.4960)\t\n",
      "Epoch: [5][89/95]\tTime 54.958 (72.881)\tData 0.000 (0.190)\tLoss 11.4544 (12.4937)\t\n",
      "Epoch: [5][90/95]\tTime 118.053 (72.977)\tData 0.016 (0.189)\tLoss 6.0243 (12.4799)\t\n",
      "Epoch: [5][91/95]\tTime 66.225 (72.963)\tData 0.234 (0.189)\tLoss 11.0064 (12.4767)\t\n",
      "Epoch: [5][92/95]\tTime 62.597 (72.941)\tData 0.000 (0.189)\tLoss 5.0105 (12.4608)\t\n",
      "Epoch: [5][93/95]\tTime 59.122 (72.912)\tData 0.016 (0.189)\tLoss 8.0163 (12.4513)\t\n",
      "Epoch: [5][94/95]\tTime 67.522 (72.900)\tData 0.016 (0.188)\tLoss 6.4211 (12.4385)\t\n",
      "Epoch: [5][95/95]\tTime 62.949 (72.879)\tData 0.031 (0.188)\tLoss 5.8527 (12.4245)\t\n",
      "Training Summary Epoch: [5]\tTime taken (s): 7028\tAverage Loss 7.501\t\n"
     ]
    },
    {
     "name": "stderr",
     "output_type": "stream",
     "text": [
      "\r",
      "  0%|                                                   | 0/32 [00:00<?, ?it/s]"
     ]
    },
    {
     "name": "stdout",
     "output_type": "stream",
     "text": [
      "T     D I    \n",
      "T   H    \n",
      "T     T     \n",
      "T   D I     \n"
     ]
    },
    {
     "name": "stderr",
     "output_type": "stream",
     "text": [
      "\r",
      "  3%|█▎                                         | 1/32 [00:11<05:43, 11.07s/it]"
     ]
    },
    {
     "name": "stdout",
     "output_type": "stream",
     "text": [
      "T    H    \n",
      "T    J    S\n",
      "T     H     \n",
      "T     E    \n"
     ]
    },
    {
     "name": "stderr",
     "output_type": "stream",
     "text": [
      "\r",
      "  6%|██▋                                        | 2/32 [00:16<04:06,  8.21s/it]"
     ]
    },
    {
     "name": "stdout",
     "output_type": "stream",
     "text": [
      "T    T     \n",
      "T     Y      C\n",
      "T     T F    \n",
      "T    T    \n"
     ]
    },
    {
     "name": "stderr",
     "output_type": "stream",
     "text": [
      "\r",
      "  9%|████                                       | 3/32 [00:22<03:33,  7.37s/it]"
     ]
    },
    {
     "name": "stdout",
     "output_type": "stream",
     "text": [
      "T    I     \n",
      "T     I    F  \n",
      "T    W    \n",
      "T     A       \n"
     ]
    },
    {
     "name": "stderr",
     "output_type": "stream",
     "text": [
      "\r",
      " 12%|█████▍                                     | 4/32 [00:28<03:21,  7.21s/it]"
     ]
    },
    {
     "name": "stdout",
     "output_type": "stream",
     "text": [
      "T       T      \n",
      "T     O       \n",
      "T     I       \n",
      "T     W      M D \n"
     ]
    },
    {
     "name": "stderr",
     "output_type": "stream",
     "text": [
      "\r",
      " 16%|██████▋                                    | 5/32 [00:38<03:27,  7.70s/it]"
     ]
    },
    {
     "name": "stdout",
     "output_type": "stream",
     "text": [
      "T    P     \n",
      "T     T    \n",
      "T    F      \n",
      "T         W       \n"
     ]
    },
    {
     "name": "stderr",
     "output_type": "stream",
     "text": [
      "\r",
      " 19%|████████                                   | 6/32 [00:48<03:30,  8.08s/it]"
     ]
    },
    {
     "name": "stdout",
     "output_type": "stream",
     "text": [
      "T      M     F' \n",
      "T     T    \n",
      "T    D   \n",
      "T     C  U   \n"
     ]
    },
    {
     "name": "stderr",
     "output_type": "stream",
     "text": [
      "\r",
      " 22%|█████████▍                                 | 7/32 [00:55<03:18,  7.94s/it]"
     ]
    },
    {
     "name": "stdout",
     "output_type": "stream",
     "text": [
      "T     S    \n",
      "T    E    \n",
      "T    T     \n",
      "T     T     \n"
     ]
    },
    {
     "name": "stderr",
     "output_type": "stream",
     "text": [
      "\r",
      " 25%|██████████▊                                | 8/32 [01:01<03:05,  7.72s/it]"
     ]
    },
    {
     "name": "stdout",
     "output_type": "stream",
     "text": [
      "T       I    \n",
      "T   A   \n",
      "T     B        \n",
      "T     W       \n"
     ]
    },
    {
     "name": "stderr",
     "output_type": "stream",
     "text": [
      "\r",
      " 28%|████████████                               | 9/32 [01:08<02:54,  7.57s/it]"
     ]
    },
    {
     "name": "stdout",
     "output_type": "stream",
     "text": [
      "T   I    \n",
      "T          \n",
      "T     I       \n",
      "T     M MN    \n"
     ]
    },
    {
     "name": "stderr",
     "output_type": "stream",
     "text": [
      "\r",
      " 31%|█████████████▏                            | 10/32 [01:14<02:43,  7.44s/it]"
     ]
    },
    {
     "name": "stdout",
     "output_type": "stream",
     "text": [
      "T      S     E  W\n",
      "T    C           \n",
      "T    T     \n",
      "T   E  '  \n"
     ]
    },
    {
     "name": "stderr",
     "output_type": "stream",
     "text": [
      "\r",
      " 34%|██████████████▍                           | 11/32 [01:23<02:39,  7.59s/it]"
     ]
    },
    {
     "name": "stdout",
     "output_type": "stream",
     "text": [
      "T     H        \n",
      "T      S     \n",
      "T    T          \n",
      "T    H    \n"
     ]
    },
    {
     "name": "stderr",
     "output_type": "stream",
     "text": [
      "\r",
      " 38%|███████████████▊                          | 12/32 [01:29<02:29,  7.50s/it]"
     ]
    },
    {
     "name": "stdout",
     "output_type": "stream",
     "text": [
      "T    W    \n",
      "T      T     \n",
      "T    B   I '   \n",
      "T    ADVENTURE     \n"
     ]
    },
    {
     "name": "stderr",
     "output_type": "stream",
     "text": [
      "\r",
      " 41%|█████████████████                         | 13/32 [01:36<02:20,  7.39s/it]"
     ]
    },
    {
     "name": "stdout",
     "output_type": "stream",
     "text": [
      "T    H I     \n",
      "T      A  '      \n",
      "T     A       \n",
      "T    A     \n"
     ]
    },
    {
     "name": "stderr",
     "output_type": "stream",
     "text": [
      "\r",
      " 44%|██████████████████▍                       | 14/32 [01:42<02:11,  7.31s/it]"
     ]
    },
    {
     "name": "stdout",
     "output_type": "stream",
     "text": [
      "T     I      \n",
      "T         G R         \n",
      "T    I    \n",
      "T   M        \n"
     ]
    },
    {
     "name": "stderr",
     "output_type": "stream",
     "text": [
      "\r",
      " 47%|███████████████████▋                      | 15/32 [01:51<02:06,  7.44s/it]"
     ]
    },
    {
     "name": "stdout",
     "output_type": "stream",
     "text": [
      "T    L '   S G\n",
      "T     I           \n",
      "T    F      \n",
      "T    W'      \n"
     ]
    },
    {
     "name": "stderr",
     "output_type": "stream",
     "text": [
      "\r",
      " 50%|█████████████████████                     | 16/32 [01:59<01:59,  7.47s/it]"
     ]
    },
    {
     "name": "stdout",
     "output_type": "stream",
     "text": [
      "T    I      \n",
      "T     T      \n",
      "T     I    \n",
      "T     L'    \n"
     ]
    },
    {
     "name": "stderr",
     "output_type": "stream",
     "text": [
      "\r",
      " 53%|██████████████████████▎                   | 17/32 [02:06<01:51,  7.46s/it]"
     ]
    },
    {
     "name": "stdout",
     "output_type": "stream",
     "text": [
      "T     I    \n",
      "T       T       \n",
      "T    A    B\n",
      "T     B     \n"
     ]
    },
    {
     "name": "stderr",
     "output_type": "stream",
     "text": [
      "\r",
      " 56%|███████████████████████▋                  | 18/32 [02:13<01:43,  7.40s/it]"
     ]
    },
    {
     "name": "stdout",
     "output_type": "stream",
     "text": [
      "T     E           \n",
      "T     T     \n",
      "T     I '    \n",
      "T    T      \n"
     ]
    },
    {
     "name": "stderr",
     "output_type": "stream",
     "text": [
      "\r",
      " 59%|████████████████████████▉                 | 19/32 [02:20<01:35,  7.38s/it]"
     ]
    },
    {
     "name": "stdout",
     "output_type": "stream",
     "text": [
      "T     F     \n",
      "T    F     \n",
      "T     I   L   \n",
      "T    T      \n"
     ]
    },
    {
     "name": "stderr",
     "output_type": "stream",
     "text": [
      "\r",
      " 62%|██████████████████████████▎               | 20/32 [02:26<01:27,  7.33s/it]"
     ]
    },
    {
     "name": "stdout",
     "output_type": "stream",
     "text": [
      "T     G P     \n",
      "T    K M   \n",
      "T   H    \n",
      "T     T    \n"
     ]
    },
    {
     "name": "stderr",
     "output_type": "stream",
     "text": [
      "\r",
      " 66%|███████████████████████████▌              | 21/32 [02:33<01:20,  7.29s/it]"
     ]
    },
    {
     "name": "stdout",
     "output_type": "stream",
     "text": [
      "T    T    \n",
      "T     S       A N\n",
      "T    T     \n",
      "T     S'    \n"
     ]
    },
    {
     "name": "stderr",
     "output_type": "stream",
     "text": [
      "\r",
      " 69%|████████████████████████████▉             | 22/32 [02:39<01:12,  7.26s/it]"
     ]
    },
    {
     "name": "stdout",
     "output_type": "stream",
     "text": [
      "T     T       O  F  O\n",
      "T   T    \n",
      "T     W      B    \n",
      "T    H     \n"
     ]
    },
    {
     "name": "stderr",
     "output_type": "stream",
     "text": [
      "\r",
      " 72%|██████████████████████████████▏           | 23/32 [02:47<01:05,  7.29s/it]"
     ]
    },
    {
     "name": "stdout",
     "output_type": "stream",
     "text": [
      "T     I     \n",
      "T     W    \n",
      "T     T         \n",
      "T    E    \n"
     ]
    },
    {
     "name": "stderr",
     "output_type": "stream",
     "text": [
      "\r",
      " 75%|███████████████████████████████▌          | 24/32 [02:54<00:58,  7.25s/it]"
     ]
    },
    {
     "name": "stdout",
     "output_type": "stream",
     "text": [
      "T      B C      \n",
      "T    D    \n",
      "T     H    \n",
      "T   T     \n"
     ]
    },
    {
     "name": "stderr",
     "output_type": "stream",
     "text": [
      "\r",
      " 78%|████████████████████████████████▊         | 25/32 [02:59<00:50,  7.20s/it]"
     ]
    },
    {
     "name": "stdout",
     "output_type": "stream",
     "text": [
      "T    M C    \n",
      "T     A   M U   \n",
      "T     I    I \n",
      "T     T FBI   \n"
     ]
    },
    {
     "name": "stderr",
     "output_type": "stream",
     "text": [
      "\r",
      " 81%|██████████████████████████████████▏       | 26/32 [03:06<00:42,  7.16s/it]"
     ]
    },
    {
     "name": "stdout",
     "output_type": "stream",
     "text": [
      "T    T       \n",
      "T     T     \n",
      "T     W      \n",
      "T    P     \n"
     ]
    },
    {
     "name": "stderr",
     "output_type": "stream",
     "text": [
      "\r",
      " 84%|███████████████████████████████████▍      | 27/32 [03:12<00:35,  7.12s/it]"
     ]
    },
    {
     "name": "stdout",
     "output_type": "stream",
     "text": [
      "T    T        E P\n",
      "T      T       \n",
      "T      T             \n",
      "T     T    \n"
     ]
    },
    {
     "name": "stderr",
     "output_type": "stream",
     "text": [
      "\r",
      " 88%|████████████████████████████████████▊     | 28/32 [03:20<00:28,  7.15s/it]"
     ]
    },
    {
     "name": "stdout",
     "output_type": "stream",
     "text": [
      "T    W        \n",
      "T    N     \n",
      "T     I    \n",
      "T      I        \n"
     ]
    },
    {
     "name": "stderr",
     "output_type": "stream",
     "text": [
      "\r",
      " 91%|██████████████████████████████████████    | 29/32 [03:27<00:21,  7.15s/it]"
     ]
    },
    {
     "name": "stdout",
     "output_type": "stream",
     "text": [
      "T      T'      \n",
      "T    H    \n",
      "T   D   \n",
      "T    A     \n"
     ]
    },
    {
     "name": "stderr",
     "output_type": "stream",
     "text": [
      "\r",
      " 94%|███████████████████████████████████████▍  | 30/32 [03:32<00:14,  7.08s/it]"
     ]
    },
    {
     "name": "stdout",
     "output_type": "stream",
     "text": [
      "T     T       \n",
      "T    Y'    \n",
      "T       C        \n",
      "T     I     \n"
     ]
    },
    {
     "name": "stderr",
     "output_type": "stream",
     "text": [
      "\r",
      " 97%|████████████████████████████████████████▋ | 31/32 [03:41<00:07,  7.14s/it]"
     ]
    },
    {
     "name": "stdout",
     "output_type": "stream",
     "text": [
      "T     A     \n",
      "T       T         \n"
     ]
    },
    {
     "name": "stderr",
     "output_type": "stream",
     "text": [
      "100%|██████████████████████████████████████████| 32/32 [03:45<00:00,  7.04s/it]\n"
     ]
    },
    {
     "name": "stdout",
     "output_type": "stream",
     "text": [
      "Validation Summary Epoch: [5]\tAverage WER 75.728\tAverage CER 16.166\t\n",
      "Learning rate annealed to: 0.000186\n",
      "Shuffling batches...\n"
     ]
    }
   ],
   "source": [
    "%run model/train.py --train-manifest data/train.csv --val-manifest data/test.csv --epochs 5 --batch-size 4 --labels-path=model/labels.json"
   ]
  }
 ],
 "metadata": {
  "kernelspec": {
   "display_name": "Python 3",
   "language": "python",
   "name": "python3"
  },
  "language_info": {
   "codemirror_mode": {
    "name": "ipython",
    "version": 3
   },
   "file_extension": ".py",
   "mimetype": "text/x-python",
   "name": "python",
   "nbconvert_exporter": "python",
   "pygments_lexer": "ipython3",
   "version": "3.6.0"
  }
 },
 "nbformat": 4,
 "nbformat_minor": 2
}
